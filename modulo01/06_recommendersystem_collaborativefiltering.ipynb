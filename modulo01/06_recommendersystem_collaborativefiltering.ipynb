{
  "cells": [
    {
      "metadata": {
        "collapsed": true
      },
      "cell_type": "markdown",
      "source": "# Construindo um Sistema de Recomendação Utilizando Python\n\nEsse projeto tem como finalidade explorar alguns métodos sobre sistema de recomendação. A proposta é criarmos um sistema de recomendação simples utilizando o algoritmo de Recomendação Colaborativa. O ponto de partida é o artigo [Toward the Next Generation of Recommender Systems: A Survey of the State-of-the-Art and Possible Extensions](http://ieeexplore.ieee.org/document/1423975/). Vamos implementar uma das propostas de recomendação colaborativa do artigo. Detalhes do método implementado é dado mais a frente."
    },
    {
      "metadata": {},
      "cell_type": "markdown",
      "source": "<a id='dataset'></a>\n## Dataset\n\nPara demostrar os algoritmos de recomendação vamos utilizar o dataset da *[MovieLens](https://grouplens.org/datasets/movielens/)*.  O site possui varias versões do dataset cada qual com um número diferentes de filmes e usuários. Vamos utilizar a versão *small* deles que é descrita como segue: \n\n> **MovieLens Latest Datasets**\n\n> These datasets will change over time, and are not appropriate for reporting research results. We will keep the download links stable for automated downloads. We will not archive or make available previously released versions.\n\n> Small: 100,000 ratings and 1,300 tag applications applied to 9,000 movies by 700 users. Last updated 10/2016.\n\nA primeira etapa é carregar a base de dados como vários DataFrames do Pandas. \n\nVamos carregar 4 arquivos: \n\n* **links:** possui referência do id de cada filme para o id na base do [IMDb](http://www.imdb.com/) e na base do [TheMovieDb](http://www.themoviedb.org). Essa informação será usada no final para exibir mais informações dos filmes recomendados utilizando as APIs disponibilizadas por estes sites.\n* **movies:** lista de filmes da base. Cada filme possui o título e uma lista de gêneros associada.\n* **ratings:** tabela de avaliação de filmes. Cada usuário avalia um filme com uma nota de 1 a 5. É armazenado também o *timestamp* de cada avaliação.\n* **tags:** termos associados a cada filme cadastrados pelos usuários.\n\nPara este tutorial vamos utilizar somente as três primeiras tabelas."
    },
    {
      "metadata": {},
      "cell_type": "markdown",
      "source": "<a id='descricao'></a>\n## Descrição do Método de Recomendação"
    },
    {
      "metadata": {},
      "cell_type": "markdown",
      "source": "Como dito anteriormente, vamos utilizar um método de recomendação apresentada no artigo [Toward the Next Generation of Recommender Systems: A Survey of the State-of-the-Art and Possible Extensions](http://ieeexplore.ieee.org/document/1423975/). Existem [vários tipos de sistemas de recomendação](https://www.bluepiit.com/blog/classifying-recommender-systems/), neste tutorial vamos utilizar a recomendação dita colaborativa. Esse titpo de recomendação utiliza a avaliação do usuário (*ratings*) para recomendar. Os usuários são comparados entre si, utilizando alguma métrica de similaridade, e a recomendação é proposta tomando como base os *ratings* dos usuários mais semelhantes. A recomendação é medida a partir da predição da nota que usuário daria a um determinado item (*predict rating*)\n\nDuas métricas precisam ser definidas: \n\n* O cálculo da similaridade de usuários\n* O cálculo do *predict rating*\n\nVamos utilizar as seguintes equações propostas no artigo: \n\n### Cáculo da Similaridade\n\n$ sim(x,y) = \\frac{\\sum_{\n    s \\in S_{xy}}\n    {\n        (r_{x,s} - \\bar{r_{x}})\n        (r_{y,s} - \\bar{r_{y}})\n    }\n}\n{\n    \\sqrt{\n        \\sum_{s \\in S_{xy}}{\n            (r_{x,s} - \\bar{r_{x}})^2\n        }\n        \\sum_{s \\in S_{xy}}{\n            (r_{y,s} - \\bar{r_{y}})^2\n        }\n    }\n} $, onde:\n\n* $S_x$: itens avaliados pelo usuário $x$;\n* $S_y$: itens avaliados pelo usuário $y$;\n* $S_{xy}$: o conjunto de todos os itens que foram avaliados tanto por x quanto por y, em outras palavras, a interseção dos conjuntos $S_x$ e $S_y$;\n* $r_{x,s}$: *rating* do usuário $x$ para o item $s$;\n* $r_{y,s}$: *rating* do usuário $y$ para o item $s$;\n* $\\bar{r_x}$: média do *ratings* dos filmes avaliados por $x$\n* $\\bar{r_y}$: média do *ratings* dos filmes avaliados por $y$\n\n### O cálculo do *predict rating*\n\nPara cada filme da base que o usuário não avaliou é calculado um valor de *rating* que o usuário daria ao filme. A proposta é calcular isto para todos os filmes da base e recomendar ao usuário os 10 filmes mais bem avaliados. Para este cálculo vamos utilizar a equação: \n\n$ r_{c,s} = \\bar{r_c} + k * \\sum_{c' \\in \\hat{C}}{sim(c,c') \\times (r_{c',s} - \\bar{r_{c'}})}$, onde:\n\n* $c$ e $c'$: são usuários;\n* $s$: um item;\n* $k$: é um fator noramlizador dado por $k = \\frac{1}{\\sum_{c' \\in \\hat{C}}{|sim(c, c')|}}$\n* $sim(c, c'):$ a similaridade do usuário c com o usuário c' dada pela equação anterior;\n* $\\hat{C}:$ o conjunto dos $N$ usuários mais similares a $c$ que avaliaram o item $s$.\n\nas demais variáveis forma descritas na equação anterior, mudando apenas as letras utilizadas. \n\n"
    }
  ],
  "metadata": {
    "kernelspec": {
      "name": "python36",
      "display_name": "Python 3.6",
      "language": "python"
    },
    "language_info": {
      "mimetype": "text/x-python",
      "nbconvert_exporter": "python",
      "name": "python",
      "pygments_lexer": "ipython3",
      "version": "3.6.6",
      "file_extension": ".py",
      "codemirror_mode": {
        "version": 3,
        "name": "ipython"
      }
    }
  },
  "nbformat": 4,
  "nbformat_minor": 2
}
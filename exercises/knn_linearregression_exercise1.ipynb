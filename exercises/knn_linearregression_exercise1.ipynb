{
 "cells": [
  {
   "cell_type": "markdown",
   "metadata": {},
   "source": [
    "# Aprendizado Supervisionado\n",
    "\n",
    "## Exercício 01\n",
    "\n",
    "Esse exercício é composto de duas atividades como descritas a seguir.\n",
    "\n",
    "### Atividade 1\n",
    "\n",
    "Vamos treinar um modelo de regressão linear para a base de dados a seguir:\n",
    "\n",
    "[Airfoil Self-Noise Data Set](http://archive.ics.uci.edu/ml/datasets/Airfoil+Self-Noise)\n",
    "\n",
    "A base de dados coleta dados de diferentes tipos de aerofólios em testes do túnel de vento da NASA. O objetivo é estimar o nível de pressão sonora dado características do aerofólio, do seu posicionamente e demais características dos testes realizados.\n",
    "\n",
    "**Tarefas:**\n",
    "\n",
    "1. Treine e teste um modelo de Regressão Linear com a base completa.\n",
    "2. Analise as features de acordo com o quanto eles influenciam para o objetivo\n",
    "3. Com base nos dados anteriores teste diferentes configurações dos modelos omitindo alguns atributos. Teste diferentes configurações. \n",
    "4. Escreva ao final uma breve explicação sobre os resultados obtidos.\n",
    "\n",
    "Todos os testes devem ser feito utilizando validação cruzada de 10 *folds*."
   ]
  },
  {
   "cell_type": "code",
   "execution_count": 4,
   "metadata": {},
   "outputs": [
    {
     "data": {
      "text/html": [
       "<div>\n",
       "<table border=\"1\" class=\"dataframe\">\n",
       "  <thead>\n",
       "    <tr style=\"text-align: right;\">\n",
       "      <th></th>\n",
       "      <th>Frequency</th>\n",
       "      <th>Angle</th>\n",
       "      <th>Chord</th>\n",
       "      <th>Velocity</th>\n",
       "      <th>Suction</th>\n",
       "      <th>Sound</th>\n",
       "    </tr>\n",
       "  </thead>\n",
       "  <tbody>\n",
       "    <tr>\n",
       "      <th>0</th>\n",
       "      <td>800</td>\n",
       "      <td>0.0</td>\n",
       "      <td>0.3048</td>\n",
       "      <td>71.3</td>\n",
       "      <td>0.002663</td>\n",
       "      <td>126.201</td>\n",
       "    </tr>\n",
       "    <tr>\n",
       "      <th>1</th>\n",
       "      <td>1000</td>\n",
       "      <td>0.0</td>\n",
       "      <td>0.3048</td>\n",
       "      <td>71.3</td>\n",
       "      <td>0.002663</td>\n",
       "      <td>125.201</td>\n",
       "    </tr>\n",
       "    <tr>\n",
       "      <th>2</th>\n",
       "      <td>1250</td>\n",
       "      <td>0.0</td>\n",
       "      <td>0.3048</td>\n",
       "      <td>71.3</td>\n",
       "      <td>0.002663</td>\n",
       "      <td>125.951</td>\n",
       "    </tr>\n",
       "    <tr>\n",
       "      <th>3</th>\n",
       "      <td>1600</td>\n",
       "      <td>0.0</td>\n",
       "      <td>0.3048</td>\n",
       "      <td>71.3</td>\n",
       "      <td>0.002663</td>\n",
       "      <td>127.591</td>\n",
       "    </tr>\n",
       "    <tr>\n",
       "      <th>4</th>\n",
       "      <td>2000</td>\n",
       "      <td>0.0</td>\n",
       "      <td>0.3048</td>\n",
       "      <td>71.3</td>\n",
       "      <td>0.002663</td>\n",
       "      <td>127.461</td>\n",
       "    </tr>\n",
       "  </tbody>\n",
       "</table>\n",
       "</div>"
      ],
      "text/plain": [
       "   Frequency  Angle   Chord  Velocity   Suction    Sound\n",
       "0        800    0.0  0.3048      71.3  0.002663  126.201\n",
       "1       1000    0.0  0.3048      71.3  0.002663  125.201\n",
       "2       1250    0.0  0.3048      71.3  0.002663  125.951\n",
       "3       1600    0.0  0.3048      71.3  0.002663  127.591\n",
       "4       2000    0.0  0.3048      71.3  0.002663  127.461"
      ]
     },
     "execution_count": 4,
     "metadata": {},
     "output_type": "execute_result"
    }
   ],
   "source": [
    "# Carregando a base de dados\n",
    "\n",
    "import pandas as pd\n",
    "from sklearn.linear_model import LinearRegression\n",
    "data = pd.read_csv('http://archive.ics.uci.edu/ml/machine-learning-databases/00291/airfoil_self_noise.dat',\n",
    "                   sep=\"\\t\",\n",
    "                   header=None,\n",
    "                  names=[\"Frequency\",\"Angle\",\"Chord\",\"Velocity\",\"Suction\",\"Sound\"])\n",
    "data.head()"
   ]
  },
  {
   "cell_type": "code",
   "execution_count": 15,
   "metadata": {},
   "outputs": [],
   "source": [
    "feature_columns = [\"Frequency\",\"Angle\",\"Chord\",\"Velocity\",\"Suction\"]\n",
    "\n",
    "X = data[feature_columns]\n",
    "y = data.Sound"
   ]
  },
  {
   "cell_type": "code",
   "execution_count": null,
   "metadata": {
    "collapsed": true
   },
   "outputs": [],
   "source": [
    "# Insira a partir daqui o código da atividade 1"
   ]
  },
  {
   "cell_type": "markdown",
   "metadata": {},
   "source": [
    "### Atividade 2\n",
    "\n",
    "Nesta atividade vamos utilizar a base de dados disponível em: https://archive.ics.uci.edu/ml/datasets/Pima+Indians+Diabetes\n",
    "\n",
    "A base coleta diversas informações dos pacientes e busca inferir se o teste de diabetes daria positivo ou negativo para o paciente. \n",
    "\n",
    "**Tarefas**\n",
    "\n",
    "1. Divida a base em treino e teste. Utilize para teste 10% da base.\n",
    "2. Calcule o melhor valor de K na base de treino utilizando validação cruzada com 10 folds.\n",
    "3. Utilize o melhor modelo encontrado no passo anterior e calcule a acurácia desse modelo na base de testes criada no item 1.\n",
    "4. Pesquise sobre outro modelo de Classificação e compare-o com o melhor modelo de KNN encontrado.\n",
    "5. Escreva ao final uma breve explicação sobre os resultados obtidos."
   ]
  },
  {
   "cell_type": "code",
   "execution_count": 19,
   "metadata": {},
   "outputs": [],
   "source": [
    "import pandas as pd\n",
    "\n",
    "data = pd.read_csv('https://archive.ics.uci.edu/ml/machine-learning-databases/pima-indians-diabetes/pima-indians-diabetes.data',\n",
    "                   sep=\",\",\n",
    "                   header=None,\n",
    "                  names=[\"TimesPregnant\",\"GlucoseConcentration\",\"BloodPressure\",\"TricepsSkin\",\"SerumInsulin\",\"MassIndex\",\n",
    "                        \"DiabetesFunction\",\"Age\",\"Class\"])\n",
    "\n",
    "features_cols = [\"TimesPregnant\",\"GlucoseConcentration\",\"BloodPressure\",\"TricepsSkin\",\"SerumInsulin\",\"MassIndex\", \n",
    "                 \"DiabetesFunction\",\"Age\"]"
   ]
  },
  {
   "cell_type": "code",
   "execution_count": 20,
   "metadata": {
    "collapsed": true
   },
   "outputs": [],
   "source": [
    "X = data[features_cols]\n",
    "y = data.Class"
   ]
  },
  {
   "cell_type": "code",
   "execution_count": null,
   "metadata": {
    "collapsed": true
   },
   "outputs": [],
   "source": [
    "# Insira a partir daqui o código da atividade 1"
   ]
  }
 ],
 "metadata": {
  "kernelspec": {
   "display_name": "Python 3",
   "language": "python",
   "name": "python3"
  },
  "language_info": {
   "codemirror_mode": {
    "name": "ipython",
    "version": 3
   },
   "file_extension": ".py",
   "mimetype": "text/x-python",
   "name": "python",
   "nbconvert_exporter": "python",
   "pygments_lexer": "ipython3",
   "version": "3.6.0"
  }
 },
 "nbformat": 4,
 "nbformat_minor": 2
}

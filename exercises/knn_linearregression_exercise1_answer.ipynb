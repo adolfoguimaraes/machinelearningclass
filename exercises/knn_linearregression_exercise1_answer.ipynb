{
 "cells": [
  {
   "cell_type": "markdown",
   "metadata": {},
   "source": [
    "# KNN e Regressão Linear - Exercício 1\n",
    "\n",
    "Gabarito por `Adolfo Guimarães`\n",
    "\n",
    "### Atividade 1\n",
    "\n",
    "Vamos treinar um modelo de regressão linear para a base de dados a seguir:\n",
    "\n",
    "[Airfoil Self-Noise Data Set](http://archive.ics.uci.edu/ml/datasets/Airfoil+Self-Noise)\n",
    "\n",
    "A base de dados coleta dados de diferentes tipos de aerofólios em testes do túnel de vento da NASA. O objetivo é estimar o nível de pressão sonora dado características do aerofólio, do seu posicionamente e demais características dos testes realizados.\n",
    "\n",
    "**Tarefas:**\n",
    "\n",
    "1. Treine e teste um modelo de Regressão Linear com a base completa.\n",
    "2. Teste diferentes modelos com diferentes atributos e analise como os atributos influenciam na qualidade da regressão.\n",
    "3. Escreva ao final uma breve explicação sobre os resultados obtidos.\n",
    "\n",
    "Todos os testes devem ser feito utilizando validação cruzada de 10 *folds*."
   ]
  },
  {
   "cell_type": "code",
   "execution_count": 2,
   "metadata": {},
   "outputs": [
    {
     "data": {
      "text/html": [
       "<div>\n",
       "<style scoped>\n",
       "    .dataframe tbody tr th:only-of-type {\n",
       "        vertical-align: middle;\n",
       "    }\n",
       "\n",
       "    .dataframe tbody tr th {\n",
       "        vertical-align: top;\n",
       "    }\n",
       "\n",
       "    .dataframe thead th {\n",
       "        text-align: right;\n",
       "    }\n",
       "</style>\n",
       "<table border=\"1\" class=\"dataframe\">\n",
       "  <thead>\n",
       "    <tr style=\"text-align: right;\">\n",
       "      <th></th>\n",
       "      <th>Frequency</th>\n",
       "      <th>Angle</th>\n",
       "      <th>Chord</th>\n",
       "      <th>Velocity</th>\n",
       "      <th>Suction</th>\n",
       "      <th>Sound</th>\n",
       "    </tr>\n",
       "  </thead>\n",
       "  <tbody>\n",
       "    <tr>\n",
       "      <th>0</th>\n",
       "      <td>800</td>\n",
       "      <td>0.0</td>\n",
       "      <td>0.3048</td>\n",
       "      <td>71.3</td>\n",
       "      <td>0.002663</td>\n",
       "      <td>126.201</td>\n",
       "    </tr>\n",
       "    <tr>\n",
       "      <th>1</th>\n",
       "      <td>1000</td>\n",
       "      <td>0.0</td>\n",
       "      <td>0.3048</td>\n",
       "      <td>71.3</td>\n",
       "      <td>0.002663</td>\n",
       "      <td>125.201</td>\n",
       "    </tr>\n",
       "    <tr>\n",
       "      <th>2</th>\n",
       "      <td>1250</td>\n",
       "      <td>0.0</td>\n",
       "      <td>0.3048</td>\n",
       "      <td>71.3</td>\n",
       "      <td>0.002663</td>\n",
       "      <td>125.951</td>\n",
       "    </tr>\n",
       "    <tr>\n",
       "      <th>3</th>\n",
       "      <td>1600</td>\n",
       "      <td>0.0</td>\n",
       "      <td>0.3048</td>\n",
       "      <td>71.3</td>\n",
       "      <td>0.002663</td>\n",
       "      <td>127.591</td>\n",
       "    </tr>\n",
       "    <tr>\n",
       "      <th>4</th>\n",
       "      <td>2000</td>\n",
       "      <td>0.0</td>\n",
       "      <td>0.3048</td>\n",
       "      <td>71.3</td>\n",
       "      <td>0.002663</td>\n",
       "      <td>127.461</td>\n",
       "    </tr>\n",
       "  </tbody>\n",
       "</table>\n",
       "</div>"
      ],
      "text/plain": [
       "   Frequency  Angle   Chord  Velocity   Suction    Sound\n",
       "0        800    0.0  0.3048      71.3  0.002663  126.201\n",
       "1       1000    0.0  0.3048      71.3  0.002663  125.201\n",
       "2       1250    0.0  0.3048      71.3  0.002663  125.951\n",
       "3       1600    0.0  0.3048      71.3  0.002663  127.591\n",
       "4       2000    0.0  0.3048      71.3  0.002663  127.461"
      ]
     },
     "execution_count": 2,
     "metadata": {},
     "output_type": "execute_result"
    }
   ],
   "source": [
    "# Carregando a base de dados\n",
    "\n",
    "import pandas as pd\n",
    "from sklearn.linear_model import LinearRegression\n",
    "data = pd.read_csv('http://archive.ics.uci.edu/ml/machine-learning-databases/00291/airfoil_self_noise.dat',\n",
    "                   sep=\"\\t\",\n",
    "                   header=None,\n",
    "                  names=[\"Frequency\",\"Angle\",\"Chord\",\"Velocity\",\"Suction\",\"Sound\"])\n",
    "data.head()"
   ]
  },
  {
   "cell_type": "code",
   "execution_count": 3,
   "metadata": {},
   "outputs": [],
   "source": [
    "feature_columns = [\"Frequency\",\"Angle\",\"Chord\",\"Velocity\",\"Suction\"]\n",
    "\n",
    "X = data[feature_columns]\n",
    "y = data.Sound"
   ]
  },
  {
   "cell_type": "markdown",
   "metadata": {},
   "source": [
    "O primeiro passo é treinar o modelo de regressão linear com a base completa. Para isso, vamos utilizar validação cruzada de 10 folds para testar. "
   ]
  },
  {
   "cell_type": "code",
   "execution_count": 10,
   "metadata": {},
   "outputs": [
    {
     "name": "stdout",
     "output_type": "stream",
     "text": [
      "Média do R2 com 10 folds: 0.3932\n"
     ]
    }
   ],
   "source": [
    "from sklearn.linear_model import LinearRegression\n",
    "from sklearn.model_selection import cross_val_score\n",
    "\n",
    "lr_complete = LinearRegression()\n",
    "\n",
    "mean_score = cross_val_score(lr_complete, X, y, cv=10, scoring='r2')\n",
    "print(\"Média do R2 com 10 folds: %.4f\" % mean_score.mean())"
   ]
  },
  {
   "cell_type": "markdown",
   "metadata": {},
   "source": [
    "Podemos testar diferentes configurações da base de dados para analisar a influência dos parâmetros. Vale ressaltar que essa é apenas uma análise preliminar baseada somente nos resultados da escolha dos parâmetros. Uma análise mais profunda requer um pouco mais de análise estatística em cima dos modelos construídos. "
   ]
  },
  {
   "cell_type": "code",
   "execution_count": 19,
   "metadata": {},
   "outputs": [
    {
     "name": "stdout",
     "output_type": "stream",
     "text": [
      "Paramters: ['Frequency'] \n",
      "\t R2: -0.0014\n",
      "Paramters: ['Angle'] \n",
      "\t R2: -0.1630\n",
      "Paramters: ['Chord'] \n",
      "\t R2: -0.0466\n",
      "Paramters: ['Velocity'] \n",
      "\t R2: -0.1220\n",
      "Paramters: ['Suction'] \n",
      "\t R2: -0.0833\n",
      "Paramters: ['Frequency', 'Angle'] \n",
      "\t R2: 0.0009\n",
      "Paramters: ['Frequency', 'Chord'] \n",
      "\t R2: 0.0845\n",
      "Paramters: ['Frequency', 'Velocity'] \n",
      "\t R2: 0.0184\n",
      "Paramters: ['Frequency', 'Suction'] \n",
      "\t R2: 0.1221\n",
      "Paramters: ['Angle', 'Chord'] \n",
      "\t R2: 0.0448\n",
      "Paramters: ['Angle', 'Velocity'] \n",
      "\t R2: -0.1526\n",
      "Paramters: ['Angle', 'Suction'] \n",
      "\t R2: -0.0704\n",
      "Paramters: ['Chord', 'Velocity'] \n",
      "\t R2: -0.0382\n",
      "Paramters: ['Chord', 'Suction'] \n",
      "\t R2: 0.0776\n",
      "Paramters: ['Velocity', 'Suction'] \n",
      "\t R2: -0.0729\n"
     ]
    }
   ],
   "source": [
    "parameters_configuration = [\n",
    "    [\"Frequency\"],\n",
    "    [\"Angle\"],\n",
    "    [\"Chord\"],\n",
    "    [\"Velocity\"],\n",
    "    [\"Suction\"],\n",
    "    [\"Frequency\", \"Angle\"],\n",
    "    [\"Frequency\", \"Chord\"],\n",
    "    [\"Frequency\", \"Velocity\"],\n",
    "    [\"Frequency\", \"Suction\"],\n",
    "    [\"Angle\", \"Chord\"],\n",
    "    [\"Angle\", \"Velocity\"],\n",
    "    [\"Angle\", \"Suction\"],\n",
    "    [\"Chord\", \"Velocity\"],\n",
    "    [\"Chord\", \"Suction\"],\n",
    "    [\"Velocity\", \"Suction\"]\n",
    "    \n",
    "]\n",
    "\n",
    "for config_ in parameters_configuration:\n",
    "    X = data[config_]\n",
    "    y = data.Sound\n",
    "    \n",
    "    lr_ = LinearRegression()\n",
    "\n",
    "    mean_score = cross_val_score(lr_, X, y, cv=10, scoring='r2')\n",
    "    print(\"Paramters: %s \\n\\t R2: %.4f\" % (config_, mean_score.mean()))"
   ]
  },
  {
   "cell_type": "markdown",
   "metadata": {},
   "source": [
    "Considerando apenas 1 ou 2 atributos, os resultados não foram bons. Entenda como $R^2$ negativo, um modelo que não consegue representar bem os dados. Vamos fazer as possibilidades de 3 e 4 atributos. Para reduzir as possibilidades que tenho que testar, vou usar do teste anterior que teve maior valor para continuar o teste. No caso: `['Frequency', 'Suction']`. \n",
    "\n",
    "Mantendo esses dois atributos, vamos variar os demais para gerar os casos com 3 atributos."
   ]
  },
  {
   "cell_type": "code",
   "execution_count": 21,
   "metadata": {},
   "outputs": [
    {
     "name": "stdout",
     "output_type": "stream",
     "text": [
      "Paramters: ['Frequency', 'Suction', 'Chord'] \n",
      "\t R2: 0.3115\n",
      "Paramters: ['Frequency', 'Suction', 'Velocity'] \n",
      "\t R2: 0.1513\n",
      "Paramters: ['Frequency', 'Suction', 'Angle'] \n",
      "\t R2: 0.1158\n"
     ]
    }
   ],
   "source": [
    "parameters_configuration = [\n",
    "    [\"Frequency\", \"Suction\", \"Chord\"],\n",
    "    [\"Frequency\", \"Suction\", \"Velocity\"],\n",
    "    [\"Frequency\", \"Suction\", \"Angle\"]   \n",
    "]\n",
    "\n",
    "for config_ in parameters_configuration:\n",
    "    X = data[config_]\n",
    "    y = data.Sound\n",
    "    \n",
    "    lr_ = LinearRegression()\n",
    "\n",
    "    mean_score = cross_val_score(lr_, X, y, cv=10, scoring='r2')\n",
    "    print(\"Paramters: %s \\n\\t R2: %.4f\" % (config_, mean_score.mean()))"
   ]
  },
  {
   "cell_type": "markdown",
   "metadata": {},
   "source": [
    "Seguindo a mesma abordagem, vamos gerar com 4 atributos:"
   ]
  },
  {
   "cell_type": "code",
   "execution_count": 22,
   "metadata": {},
   "outputs": [
    {
     "name": "stdout",
     "output_type": "stream",
     "text": [
      "Paramters: ['Frequency', 'Suction', 'Chord', 'Velocity'] \n",
      "\t R2: 0.3425\n",
      "Paramters: ['Frequency', 'Suction', 'Chord', 'Angle'] \n",
      "\t R2: 0.3469\n"
     ]
    }
   ],
   "source": [
    "parameters_configuration = [\n",
    "    [\"Frequency\", \"Suction\", \"Chord\", \"Velocity\"],\n",
    "    [\"Frequency\", \"Suction\", \"Chord\", \"Angle\"],\n",
    "]\n",
    "\n",
    "for config_ in parameters_configuration:\n",
    "    X = data[config_]\n",
    "    y = data.Sound\n",
    "    \n",
    "    lr_ = LinearRegression()\n",
    "\n",
    "    mean_score = cross_val_score(lr_, X, y, cv=10, scoring='r2')\n",
    "    print(\"Paramters: %s \\n\\t R2: %.4f\" % (config_, mean_score.mean()))"
   ]
  },
  {
   "cell_type": "markdown",
   "metadata": {},
   "source": [
    "Observe que em nenhum dos casos, obtivemos resultados melhores do que quando consideramos todos os atributos. No entanto, é fácil perceber, nessa análise preliminar, que os atributos `Frequency`, `Suction` e `Chord` tem forte influência nos resultados finais. "
   ]
  },
  {
   "cell_type": "markdown",
   "metadata": {},
   "source": [
    "### Atividade 2\n",
    "\n",
    "Nesta atividade vamos utilizar a base de dados disponível em: https://archive.ics.uci.edu/ml/machine-learning-databases/zoo/zoo.data\n",
    "\n",
    "O objetivo é classificar animais em espécies de acordo com uma série de características sobre as espécies. \n",
    "\n",
    "**Classes:**\n",
    "\n",
    "* 1: Mammal\n",
    "* 2: Bird\n",
    "* 3: Reptile\n",
    "* 4: Fish\n",
    "* 5: Amphibian\n",
    "* 6: Bug \n",
    "* 7: Invertebrate\n",
    "\n",
    "**Tarefas**\n",
    "\n",
    "1. Divida a base em treino e teste. Utilize para teste 10% da base.\n",
    "2. Calcule o melhor valor de K na base de treino utilizando validação cruzada com 10 folds.\n",
    "3. Utilize o melhor modelo encontrado no passo anterior e calcule a acurácia desse modelo na base de testes criada no item 1.\n",
    "4. Pesquise sobre outro modelo de Classificação e compare-o com o melhor modelo de KNN encontrado.\n",
    "5. Escreva ao final uma breve explicação sobre os resultados obtidos."
   ]
  },
  {
   "cell_type": "code",
   "execution_count": 25,
   "metadata": {},
   "outputs": [
    {
     "data": {
      "text/html": [
       "<div>\n",
       "<style scoped>\n",
       "    .dataframe tbody tr th:only-of-type {\n",
       "        vertical-align: middle;\n",
       "    }\n",
       "\n",
       "    .dataframe tbody tr th {\n",
       "        vertical-align: top;\n",
       "    }\n",
       "\n",
       "    .dataframe thead th {\n",
       "        text-align: right;\n",
       "    }\n",
       "</style>\n",
       "<table border=\"1\" class=\"dataframe\">\n",
       "  <thead>\n",
       "    <tr style=\"text-align: right;\">\n",
       "      <th></th>\n",
       "      <th>animal_name</th>\n",
       "      <th>hair</th>\n",
       "      <th>feathers</th>\n",
       "      <th>eggs</th>\n",
       "      <th>milk</th>\n",
       "      <th>airborne</th>\n",
       "      <th>aquatic</th>\n",
       "      <th>predator</th>\n",
       "      <th>toothed</th>\n",
       "      <th>backbone</th>\n",
       "      <th>breathes</th>\n",
       "      <th>venomous</th>\n",
       "      <th>fins</th>\n",
       "      <th>legs</th>\n",
       "      <th>tail</th>\n",
       "      <th>domestic</th>\n",
       "      <th>catsize</th>\n",
       "      <th>type</th>\n",
       "    </tr>\n",
       "  </thead>\n",
       "  <tbody>\n",
       "    <tr>\n",
       "      <th>0</th>\n",
       "      <td>aardvark</td>\n",
       "      <td>1</td>\n",
       "      <td>0</td>\n",
       "      <td>0</td>\n",
       "      <td>1</td>\n",
       "      <td>0</td>\n",
       "      <td>0</td>\n",
       "      <td>1</td>\n",
       "      <td>1</td>\n",
       "      <td>1</td>\n",
       "      <td>1</td>\n",
       "      <td>0</td>\n",
       "      <td>0</td>\n",
       "      <td>4</td>\n",
       "      <td>0</td>\n",
       "      <td>0</td>\n",
       "      <td>1</td>\n",
       "      <td>1</td>\n",
       "    </tr>\n",
       "    <tr>\n",
       "      <th>1</th>\n",
       "      <td>antelope</td>\n",
       "      <td>1</td>\n",
       "      <td>0</td>\n",
       "      <td>0</td>\n",
       "      <td>1</td>\n",
       "      <td>0</td>\n",
       "      <td>0</td>\n",
       "      <td>0</td>\n",
       "      <td>1</td>\n",
       "      <td>1</td>\n",
       "      <td>1</td>\n",
       "      <td>0</td>\n",
       "      <td>0</td>\n",
       "      <td>4</td>\n",
       "      <td>1</td>\n",
       "      <td>0</td>\n",
       "      <td>1</td>\n",
       "      <td>1</td>\n",
       "    </tr>\n",
       "    <tr>\n",
       "      <th>2</th>\n",
       "      <td>bass</td>\n",
       "      <td>0</td>\n",
       "      <td>0</td>\n",
       "      <td>1</td>\n",
       "      <td>0</td>\n",
       "      <td>0</td>\n",
       "      <td>1</td>\n",
       "      <td>1</td>\n",
       "      <td>1</td>\n",
       "      <td>1</td>\n",
       "      <td>0</td>\n",
       "      <td>0</td>\n",
       "      <td>1</td>\n",
       "      <td>0</td>\n",
       "      <td>1</td>\n",
       "      <td>0</td>\n",
       "      <td>0</td>\n",
       "      <td>4</td>\n",
       "    </tr>\n",
       "    <tr>\n",
       "      <th>3</th>\n",
       "      <td>bear</td>\n",
       "      <td>1</td>\n",
       "      <td>0</td>\n",
       "      <td>0</td>\n",
       "      <td>1</td>\n",
       "      <td>0</td>\n",
       "      <td>0</td>\n",
       "      <td>1</td>\n",
       "      <td>1</td>\n",
       "      <td>1</td>\n",
       "      <td>1</td>\n",
       "      <td>0</td>\n",
       "      <td>0</td>\n",
       "      <td>4</td>\n",
       "      <td>0</td>\n",
       "      <td>0</td>\n",
       "      <td>1</td>\n",
       "      <td>1</td>\n",
       "    </tr>\n",
       "    <tr>\n",
       "      <th>4</th>\n",
       "      <td>boar</td>\n",
       "      <td>1</td>\n",
       "      <td>0</td>\n",
       "      <td>0</td>\n",
       "      <td>1</td>\n",
       "      <td>0</td>\n",
       "      <td>0</td>\n",
       "      <td>1</td>\n",
       "      <td>1</td>\n",
       "      <td>1</td>\n",
       "      <td>1</td>\n",
       "      <td>0</td>\n",
       "      <td>0</td>\n",
       "      <td>4</td>\n",
       "      <td>1</td>\n",
       "      <td>0</td>\n",
       "      <td>1</td>\n",
       "      <td>1</td>\n",
       "    </tr>\n",
       "  </tbody>\n",
       "</table>\n",
       "</div>"
      ],
      "text/plain": [
       "  animal_name  hair  feathers  eggs  milk  airborne  aquatic  predator  \\\n",
       "0    aardvark     1         0     0     1         0        0         1   \n",
       "1    antelope     1         0     0     1         0        0         0   \n",
       "2        bass     0         0     1     0         0        1         1   \n",
       "3        bear     1         0     0     1         0        0         1   \n",
       "4        boar     1         0     0     1         0        0         1   \n",
       "\n",
       "   toothed  backbone  breathes  venomous  fins  legs  tail  domestic  catsize  \\\n",
       "0        1         1         1         0     0     4     0         0        1   \n",
       "1        1         1         1         0     0     4     1         0        1   \n",
       "2        1         1         0         0     1     0     1         0        0   \n",
       "3        1         1         1         0     0     4     0         0        1   \n",
       "4        1         1         1         0     0     4     1         0        1   \n",
       "\n",
       "   type  \n",
       "0     1  \n",
       "1     1  \n",
       "2     4  \n",
       "3     1  \n",
       "4     1  "
      ]
     },
     "execution_count": 25,
     "metadata": {},
     "output_type": "execute_result"
    }
   ],
   "source": [
    "import pandas as pd\n",
    "\n",
    "data = pd.read_csv('https://archive.ics.uci.edu/ml/machine-learning-databases/zoo/zoo.data',\n",
    "                   sep=\",\",\n",
    "                   header=None,\n",
    "                  names=[\"animal_name\",\"hair\",\"feathers\",\"eggs\",\"milk\",\"airborne\",\n",
    "                        \"aquatic\",\"predator\",\"toothed\",\"backbone\",\"breathes\",\n",
    "                        \"venomous\",\"fins\",\"legs\",\"tail\",\"domestic\",\"catsize\",\"type\"])\n",
    "\n",
    "features_cols = [\"hair\",\"feathers\",\"eggs\",\"milk\",\"airborne\",\n",
    "                        \"aquatic\",\"predator\",\"toothed\",\"backbone\",\"breathes\",\n",
    "                        \"venomous\",\"fins\",\"legs\",\"tail\",\"domestic\",\"catsize\"]\n",
    "data.head()"
   ]
  },
  {
   "cell_type": "code",
   "execution_count": 26,
   "metadata": {},
   "outputs": [],
   "source": [
    "X = data[features_cols]\n",
    "y = data.type"
   ]
  },
  {
   "cell_type": "markdown",
   "metadata": {},
   "source": [
    "O primeiro passo é dividir a base em treino e teste:"
   ]
  },
  {
   "cell_type": "code",
   "execution_count": 27,
   "metadata": {},
   "outputs": [],
   "source": [
    "from sklearn.model_selection import train_test_split\n",
    "\n",
    "X_train, X_test, y_train, y_test = train_test_split(X, y, test_size=0.1, random_state=1)"
   ]
  },
  {
   "cell_type": "code",
   "execution_count": 30,
   "metadata": {},
   "outputs": [
    {
     "name": "stdout",
     "output_type": "stream",
     "text": [
      "Tamanho da base completa: (101, 16) \n",
      "Tamanho da base de treinamento: (90, 16) \n",
      "Tamanho da base de teste: (11, 16) \n"
     ]
    }
   ],
   "source": [
    "print(\"Tamanho da base completa: %s \" % str(X.shape))\n",
    "print(\"Tamanho da base de treinamento: %s \" % str(X_train.shape))\n",
    "print(\"Tamanho da base de teste: %s \" % str(X_test.shape))"
   ]
  },
  {
   "cell_type": "markdown",
   "metadata": {},
   "source": [
    "Em seguida, devemos aplicar a validação cruzada de 10 folds. Vamos ver o que acontece:"
   ]
  },
  {
   "cell_type": "code",
   "execution_count": 48,
   "metadata": {},
   "outputs": [
    {
     "name": "stderr",
     "output_type": "stream",
     "text": [
      "/Users/adolfoguimaraes/Desenvolvimento/machinelearning/env/lib/python3.6/site-packages/sklearn/model_selection/_split.py:605: Warning: The least populated class in y has only 3 members, which is too few. The minimum number of members in any class cannot be less than n_splits=10.\n",
      "  % (min_groups, self.n_splits)), Warning)\n"
     ]
    }
   ],
   "source": [
    "from sklearn.neighbors import KNeighborsClassifier\n",
    "from sklearn.model_selection import cross_val_score\n",
    "\n",
    "knn_3 = KNeighborsClassifier(n_neighbors=3)\n",
    "\n",
    "scores_ = cross_val_score(knn_3, X_train, y_train, cv=10, scoring='accuracy')"
   ]
  },
  {
   "cell_type": "markdown",
   "metadata": {},
   "source": [
    "Como estamos utilizando 10 folds, o número mínimo de elementos de cada classe também deve ser 10 para que a divisão proporcional seja realizada em todos os folds. Uma forma de eliminar esse `Warning` é diminuir o número de folds ou executar desta forma. O scikit-learn consegue realizar os testes assim mesmo. No entanto, o ideal seríamos ter mais instâncias de uma determinada classe. Como nosso propósito é mostrar o funcionamento do algoritmo, vamos manter com o warning mas fica o aviso de que precisaríamos melhorar essa distribuição da base. \n",
    "\n",
    "Vamos testar para vários valores de K, mas vou usar CV=3 para evitar os Warnings."
   ]
  },
  {
   "cell_type": "code",
   "execution_count": 54,
   "metadata": {},
   "outputs": [
    {
     "name": "stdout",
     "output_type": "stream",
     "text": [
      "K: 1 | Acc: 0.9770\n",
      "K: 2 | Acc: 0.9316\n",
      "K: 3 | Acc: 0.8900\n",
      "K: 4 | Acc: 0.8796\n",
      "K: 5 | Acc: 0.8454\n",
      "K: 6 | Acc: 0.8128\n",
      "K: 7 | Acc: 0.7913\n",
      "K: 8 | Acc: 0.7794\n",
      "K: 9 | Acc: 0.7794\n",
      "K: 10 | Acc: 0.7794\n",
      "K: 11 | Acc: 0.7794\n",
      "K: 12 | Acc: 0.7794\n",
      "K: 13 | Acc: 0.7794\n",
      "K: 14 | Acc: 0.7794\n",
      "K: 15 | Acc: 0.7794\n",
      "K: 16 | Acc: 0.7481\n",
      "K: 17 | Acc: 0.7148\n",
      "K: 18 | Acc: 0.7148\n",
      "K: 19 | Acc: 0.6910\n",
      "K: 20 | Acc: 0.6910\n",
      "K: 21 | Acc: 0.6910\n",
      "K: 22 | Acc: 0.6910\n",
      "K: 23 | Acc: 0.6465\n",
      "K: 24 | Acc: 0.6257\n",
      "K: 25 | Acc: 0.5602\n",
      "K: 26 | Acc: 0.5602\n",
      "K: 27 | Acc: 0.5364\n",
      "K: 28 | Acc: 0.5364\n",
      "K: 29 | Acc: 0.5364\n"
     ]
    }
   ],
   "source": [
    "for k in range(1, 30):\n",
    "    knn_ = KNeighborsClassifier(n_neighbors=k)\n",
    "\n",
    "    scores_ = cross_val_score(knn_, X_train, y_train, cv=3, scoring='accuracy')\n",
    "    print(\"K: %i | Acc: %.4f\" % (k, scores_.mean()))"
   ]
  },
  {
   "cell_type": "markdown",
   "metadata": {},
   "source": [
    "Vamos aplicar a nossa base de teste: "
   ]
  },
  {
   "cell_type": "code",
   "execution_count": 116,
   "metadata": {},
   "outputs": [
    {
     "data": {
      "text/plain": [
       "KNeighborsClassifier(algorithm='auto', leaf_size=30, metric='minkowski',\n",
       "           metric_params=None, n_jobs=1, n_neighbors=1, p=2,\n",
       "           weights='uniform')"
      ]
     },
     "execution_count": 116,
     "metadata": {},
     "output_type": "execute_result"
    }
   ],
   "source": [
    "knn_ = KNeighborsClassifier(n_neighbors=1)\n",
    "knn_.fit(X_train, y_train)"
   ]
  },
  {
   "cell_type": "code",
   "execution_count": 117,
   "metadata": {},
   "outputs": [
    {
     "name": "stdout",
     "output_type": "stream",
     "text": [
      "Acurácia na base de teste: 0.9091\n"
     ]
    }
   ],
   "source": [
    "acc_test = knn_.score(X_test, y_test)\n",
    "print(\"Acurácia na base de teste: %.4f\" % acc_test)"
   ]
  },
  {
   "cell_type": "markdown",
   "metadata": {},
   "source": [
    "Podemos melhorar esse resultado? \n",
    "\n",
    "Vamos selecionar um modelo \"menos superestimado\" para tentar generalizar melhor no teste. "
   ]
  },
  {
   "cell_type": "code",
   "execution_count": 119,
   "metadata": {},
   "outputs": [
    {
     "name": "stdout",
     "output_type": "stream",
     "text": [
      "Acurácia na base de teste: 1.0000\n"
     ]
    }
   ],
   "source": [
    "knn_ = KNeighborsClassifier(n_neighbors=3)\n",
    "knn_.fit(X_train, y_train)\n",
    "acc_test = knn_.score(X_test, y_test)\n",
    "print(\"Acurácia na base de teste: %.4f\" % acc_test)"
   ]
  },
  {
   "cell_type": "markdown",
   "metadata": {},
   "source": [
    "Nesse caso, um modelo com acurácia menor na base de treinamento e validação, obteve um resultado melhor na base de testes. No entanto, vale ressaltar que a base possui poucas instâncias. Principalmente, se analisarmos a quantidade por classe. Vamos ver mais a frente que existem outras métricas para avaliar nosso modelo. No entanto, por enquanto, esse teste aqui é suficiente."
   ]
  },
  {
   "cell_type": "markdown",
   "metadata": {},
   "source": [
    "## Comparando com outros modelos\n",
    "\n",
    "Vamos utilizar uma árvore de decisão para esse problema. "
   ]
  },
  {
   "cell_type": "code",
   "execution_count": 112,
   "metadata": {},
   "outputs": [
    {
     "name": "stdout",
     "output_type": "stream",
     "text": [
      "Acc com Árvore de Decisão: 0.8655\n"
     ]
    }
   ],
   "source": [
    "from sklearn import tree\n",
    "\n",
    "clf_tree = tree.DecisionTreeClassifier(criterion='entropy', max_depth=5, \n",
    "                                       min_samples_split=6, min_samples_leaf=5, random_state=1)\n",
    "\n",
    "scores_ = cross_val_score(clf_tree, X_train, y_train, cv=3, scoring='accuracy')\n",
    "print(\"Acc com Árvore de Decisão: %.4f\" % scores_.mean())"
   ]
  },
  {
   "cell_type": "code",
   "execution_count": 113,
   "metadata": {},
   "outputs": [
    {
     "name": "stdout",
     "output_type": "stream",
     "text": [
      "Acurácia na base de teste: 0.9091\n"
     ]
    }
   ],
   "source": [
    "clf_tree.fit(X_train, y_train)\n",
    "acc_test = clf_tree.score(X_test, y_test)\n",
    "print(\"Acurácia na base de teste: %.4f\" % acc_test)"
   ]
  },
  {
   "cell_type": "markdown",
   "metadata": {},
   "source": [
    "O uso de uma árvore de decisão não consegue atingir o resultado obtido no KNN. As alterações não melhoraram o resultado gerado com as configurações padrão."
   ]
  }
 ],
 "metadata": {
  "kernelspec": {
   "display_name": "Python 3",
   "language": "python",
   "name": "python3"
  },
  "language_info": {
   "codemirror_mode": {
    "name": "ipython",
    "version": 3
   },
   "file_extension": ".py",
   "mimetype": "text/x-python",
   "name": "python",
   "nbconvert_exporter": "python",
   "pygments_lexer": "ipython3",
   "version": "3.6.0"
  }
 },
 "nbformat": 4,
 "nbformat_minor": 2
}

{
 "cells": [
  {
   "cell_type": "markdown",
   "metadata": {},
   "source": [
    "# Naive Bayes - Exercício Titanic\n",
    "\n",
    "Aplique o algoritmo Naive Bayes no problema do Titanic. Utilize o método de validação cruzada para testar o modelo criado. Ao final, gere o arquivo de saída e submeta-o ao Kaggle. "
   ]
  },
  {
   "cell_type": "code",
   "execution_count": 5,
   "metadata": {},
   "outputs": [],
   "source": [
    "# imports\n",
    "\n",
    "import pandas as pd\n",
    "import numpy as np\n",
    "\n",
    "from sklearn.model_selection import cross_val_score"
   ]
  },
  {
   "cell_type": "code",
   "execution_count": 6,
   "metadata": {},
   "outputs": [],
   "source": [
    "# pre-processing train dataset \n",
    "\n",
    "df = pd.read_csv(\"../datasets/titanic/train.csv\")\n",
    "\n",
    "df = df.drop(['Name', 'Ticket', 'Cabin'], axis=1)\n",
    "df['Gender'] = df['Sex'].map({'female': 0, 'male':1}).astype(float)\n",
    "df['Port'] = df['Embarked'].map({'C':1, 'S':2, 'Q':3}).astype(float)\n",
    "df = df.drop(['Sex', 'Embarked'], axis=1)\n",
    "cols = df.columns.tolist()\n",
    "cols = [cols[1]] + cols[0:1] + cols[2:]\n",
    "df = df[cols]\n",
    "df = df.fillna(-1)\n",
    "\n",
    "dataset = {\n",
    "    'data': df.values[0:, 2:],\n",
    "    'target': df.values[0:,0]\n",
    "}\n",
    "\n",
    "X_train = dataset['data']\n",
    "y_train = dataset['target']"
   ]
  },
  {
   "cell_type": "code",
   "execution_count": 7,
   "metadata": {},
   "outputs": [],
   "source": [
    "# Pre-processing test dataset\n",
    "\n",
    "df_test = pd.read_csv(\"../datasets/titanic/test.csv\")\n",
    "\n",
    "df_test = df_test.drop(['Name', 'Ticket', 'Cabin'], axis=1)\n",
    "df_test['Gender'] = df_test['Sex'].map({'female': 0, 'male':1}).astype(int)\n",
    "df_test['Port'] = df_test['Embarked'].map({'C':1, 'S':2, 'Q':3}).astype(int)\n",
    "df_test = df_test.drop(['Sex', 'Embarked'], axis=1)\n",
    "df_test = df_test.fillna(-1)\n",
    "\n",
    "test_dataset = df_test.values[0:, 1:]\n",
    "test_ids = df_test.values[0:, 0]"
   ]
  },
  {
   "cell_type": "code",
   "execution_count": 8,
   "metadata": {},
   "outputs": [],
   "source": [
    "# Generate CSV file in Kaggle format\n",
    "\n",
    "def generate_csv(id_values, predict_result, filename):\n",
    "    count = 0\n",
    "    values = []\n",
    "    for id_value in id_values:\n",
    "        values.append((int(id_value), int(predict_result[count])))\n",
    "        count += 1\n",
    "\n",
    "    df = pd.DataFrame(values, columns=['PassengerId','Survived']) \n",
    "    df.to_csv(\"../datasets/titanic/\" + filename + \".csv\", sep=',', columns=['PassengerId','Survived'], index=False)"
   ]
  },
  {
   "cell_type": "markdown",
   "metadata": {},
   "source": [
    "Implemente e teste o modelo utilizando o Naive Bayes. Teste os três tipos de Algoritmos Naive Bayes presentes na documentação do scikit-learn."
   ]
  },
  {
   "cell_type": "code",
   "execution_count": 11,
   "metadata": {},
   "outputs": [],
   "source": [
    "# Insert your code here"
   ]
  }
 ],
 "metadata": {
  "kernelspec": {
   "display_name": "Python 3",
   "language": "python",
   "name": "python3"
  },
  "language_info": {
   "codemirror_mode": {
    "name": "ipython",
    "version": 3
   },
   "file_extension": ".py",
   "mimetype": "text/x-python",
   "name": "python",
   "nbconvert_exporter": "python",
   "pygments_lexer": "ipython3",
   "version": "3.6.0"
  }
 },
 "nbformat": 4,
 "nbformat_minor": 2
}

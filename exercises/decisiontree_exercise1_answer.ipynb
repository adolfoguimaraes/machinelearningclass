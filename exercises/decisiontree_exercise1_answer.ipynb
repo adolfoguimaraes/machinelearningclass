{
 "cells": [
  {
   "cell_type": "markdown",
   "metadata": {},
   "source": [
    "# Árvore de Decisão - Exercício\n",
    "\n",
    "`Respostas - Adolfo Guimarães`\n",
    "\n",
    "Aplique o algoritmo de árvore de decisão no problema do Titanic. Utilize o método de validação cruzada para testar o modelo criado. Ao final, gere o arquivo de saída e submeta-o ao Kaggle. "
   ]
  },
  {
   "cell_type": "code",
   "execution_count": 1,
   "metadata": {},
   "outputs": [],
   "source": [
    "# imports\n",
    "\n",
    "import pandas as pd\n",
    "import numpy as np\n",
    "\n",
    "from sklearn.model_selection import cross_val_score"
   ]
  },
  {
   "cell_type": "code",
   "execution_count": 2,
   "metadata": {},
   "outputs": [],
   "source": [
    "# pre-processing train dataset \n",
    "\n",
    "df = pd.read_csv(\"../datasets/titanic/train.csv\")\n",
    "\n",
    "df = df.drop(['Name', 'Ticket', 'Cabin'], axis=1)\n",
    "df['Gender'] = df['Sex'].map({'female': 0, 'male':1}).astype(float)\n",
    "df['Port'] = df['Embarked'].map({'C':1, 'S':2, 'Q':3}).astype(float)\n",
    "df = df.drop(['Sex', 'Embarked'], axis=1)\n",
    "cols = df.columns.tolist()\n",
    "cols = [cols[1]] + cols[0:1] + cols[2:]\n",
    "df = df[cols]\n",
    "df = df.fillna(-1)\n",
    "\n",
    "dataset = {\n",
    "    'data': df.values[0:, 2:],\n",
    "    'target': df.values[0:,0]\n",
    "}\n",
    "\n",
    "X_train = dataset['data']\n",
    "y_train = dataset['target']"
   ]
  },
  {
   "cell_type": "code",
   "execution_count": 3,
   "metadata": {},
   "outputs": [],
   "source": [
    "# Pre-processing test dataset\n",
    "\n",
    "df_test = pd.read_csv(\"../datasets/titanic/test.csv\")\n",
    "\n",
    "df_test = df_test.drop(['Name', 'Ticket', 'Cabin'], axis=1)\n",
    "df_test['Gender'] = df_test['Sex'].map({'female': 0, 'male':1}).astype(int)\n",
    "df_test['Port'] = df_test['Embarked'].map({'C':1, 'S':2, 'Q':3}).astype(int)\n",
    "df_test = df_test.drop(['Sex', 'Embarked'], axis=1)\n",
    "df_test = df_test.fillna(-1)\n",
    "\n",
    "test_dataset = df_test.values[0:, 1:]\n",
    "test_ids = df_test.values[0:, 0]"
   ]
  },
  {
   "cell_type": "code",
   "execution_count": 4,
   "metadata": {},
   "outputs": [],
   "source": [
    "# Generate CSV file in Kaggle format\n",
    "\n",
    "def generate_csv(id_values, predict_result, filename):\n",
    "    count = 0\n",
    "    values = []\n",
    "    for id_value in id_values:\n",
    "        values.append((int(id_value), int(predict_result[count])))\n",
    "        count += 1\n",
    "\n",
    "    df = pd.DataFrame(values, columns=['PassengerId','Survived']) \n",
    "    df.to_csv(\"../datasets/titanic/\" + filename + \".csv\", sep=',', columns=['PassengerId','Survived'], index=False)"
   ]
  },
  {
   "cell_type": "markdown",
   "metadata": {},
   "source": [
    "Implemente e teste o modelo utilizando Árvore de decisão. Reporte o resultado obtido no Kaggle."
   ]
  },
  {
   "cell_type": "code",
   "execution_count": 5,
   "metadata": {},
   "outputs": [],
   "source": [
    "# Insert your code here\n",
    "\n",
    "from sklearn import tree\n",
    "from sklearn.model_selection import cross_val_score\n",
    "\n",
    "clf_tree = tree.DecisionTreeClassifier(criterion='entropy')"
   ]
  },
  {
   "cell_type": "code",
   "execution_count": 7,
   "metadata": {},
   "outputs": [
    {
     "name": "stdout",
     "output_type": "stream",
     "text": [
      "0.7879770706085247\n"
     ]
    }
   ],
   "source": [
    "scores_tree = cross_val_score(clf_tree, X_train, y_train, cv=5, scoring='accuracy') \n",
    "print(scores_tree.mean())"
   ]
  },
  {
   "cell_type": "code",
   "execution_count": 8,
   "metadata": {},
   "outputs": [
    {
     "data": {
      "text/plain": [
       "DecisionTreeClassifier(class_weight=None, criterion='entropy', max_depth=None,\n",
       "            max_features=None, max_leaf_nodes=None,\n",
       "            min_impurity_decrease=0.0, min_impurity_split=None,\n",
       "            min_samples_leaf=1, min_samples_split=2,\n",
       "            min_weight_fraction_leaf=0.0, presort=False, random_state=None,\n",
       "            splitter='best')"
      ]
     },
     "execution_count": 8,
     "metadata": {},
     "output_type": "execute_result"
    }
   ],
   "source": [
    "clf_tree.fit(X_train, y_train)"
   ]
  },
  {
   "cell_type": "code",
   "execution_count": 9,
   "metadata": {},
   "outputs": [],
   "source": [
    "predict_result = clf_tree.predict(test_dataset)"
   ]
  },
  {
   "cell_type": "code",
   "execution_count": 10,
   "metadata": {},
   "outputs": [],
   "source": [
    "generate_csv(test_ids, predict_result, \"output_decisiontree\")"
   ]
  },
  {
   "cell_type": "markdown",
   "metadata": {},
   "source": [
    "Acurácia retornada pelo Kaggle: `0.67942`"
   ]
  },
  {
   "cell_type": "markdown",
   "metadata": {},
   "source": [
    "Podemos melhorar? "
   ]
  },
  {
   "cell_type": "code",
   "execution_count": 11,
   "metadata": {},
   "outputs": [
    {
     "name": "stdout",
     "output_type": "stream",
     "text": [
      "0.8148872946786405\n"
     ]
    }
   ],
   "source": [
    "clf_tree = tree.DecisionTreeClassifier(criterion='entropy', max_depth=5, min_samples_leaf=5, min_samples_split=2)\n",
    "scores_tree = cross_val_score(clf_tree, X_train, y_train, cv=5, scoring='accuracy') \n",
    "print(scores_tree.mean())"
   ]
  },
  {
   "cell_type": "code",
   "execution_count": 12,
   "metadata": {},
   "outputs": [
    {
     "data": {
      "text/plain": [
       "DecisionTreeClassifier(class_weight=None, criterion='entropy', max_depth=5,\n",
       "            max_features=None, max_leaf_nodes=None,\n",
       "            min_impurity_decrease=0.0, min_impurity_split=None,\n",
       "            min_samples_leaf=5, min_samples_split=2,\n",
       "            min_weight_fraction_leaf=0.0, presort=False, random_state=None,\n",
       "            splitter='best')"
      ]
     },
     "execution_count": 12,
     "metadata": {},
     "output_type": "execute_result"
    }
   ],
   "source": [
    "clf_tree.fit(X_train, y_train)"
   ]
  },
  {
   "cell_type": "code",
   "execution_count": 15,
   "metadata": {},
   "outputs": [],
   "source": [
    "predict_result = clf_tree.predict(test_dataset)\n",
    "generate_csv(test_ids, predict_result, \"output_decisiontree_2\")"
   ]
  },
  {
   "cell_type": "markdown",
   "metadata": {},
   "source": [
    "Sim, podemos melhorar. O resultado retornado pelo Kaggle foi: `0.76076`"
   ]
  }
 ],
 "metadata": {
  "kernelspec": {
   "display_name": "Python 3",
   "language": "python",
   "name": "python3"
  },
  "language_info": {
   "codemirror_mode": {
    "name": "ipython",
    "version": 3
   },
   "file_extension": ".py",
   "mimetype": "text/x-python",
   "name": "python",
   "nbconvert_exporter": "python",
   "pygments_lexer": "ipython3",
   "version": "3.6.0"
  }
 },
 "nbformat": 4,
 "nbformat_minor": 2
}

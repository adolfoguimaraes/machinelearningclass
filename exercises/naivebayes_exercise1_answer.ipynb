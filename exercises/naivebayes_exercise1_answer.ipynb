{
 "cells": [
  {
   "cell_type": "markdown",
   "metadata": {},
   "source": [
    "# Naive Bayes - Exercício Titanic\n",
    "\n",
    "Aplique o algoritmo Naive Bayes no problema do Titanic. Utilize o método de validação cruzada para testar o modelo criado. Ao final, gere o arquivo de saída e submeta-o ao Kaggle. "
   ]
  },
  {
   "cell_type": "code",
   "execution_count": 11,
   "metadata": {},
   "outputs": [],
   "source": [
    "# imports\n",
    "\n",
    "import pandas as pd\n",
    "import numpy as np\n",
    "\n",
    "from sklearn.model_selection import cross_val_score"
   ]
  },
  {
   "cell_type": "code",
   "execution_count": 12,
   "metadata": {},
   "outputs": [],
   "source": [
    "# pre-processing train dataset \n",
    "\n",
    "df = pd.read_csv(\"../datasets/titanic/train.csv\")\n",
    "\n",
    "df = df.drop(['Name', 'Ticket', 'Cabin'], axis=1)\n",
    "df['Gender'] = df['Sex'].map({'female': 0, 'male':1}).astype(float)\n",
    "df['Port'] = df['Embarked'].map({'C':1, 'S':2, 'Q':3}).astype(float)\n",
    "df = df.drop(['Sex', 'Embarked'], axis=1)\n",
    "cols = df.columns.tolist()\n",
    "cols = [cols[1]] + cols[0:1] + cols[2:]\n",
    "df = df[cols]\n",
    "df = df.fillna(0)\n",
    "\n",
    "dataset = {\n",
    "    'data': df.values[0:, 2:],\n",
    "    'target': df.values[0:,0]\n",
    "}\n",
    "\n",
    "X_train = dataset['data']\n",
    "y_train = dataset['target']"
   ]
  },
  {
   "cell_type": "code",
   "execution_count": 13,
   "metadata": {},
   "outputs": [],
   "source": [
    "# Pre-processing test dataset\n",
    "\n",
    "df_test = pd.read_csv(\"../datasets/titanic/test.csv\")\n",
    "\n",
    "df_test = df_test.drop(['Name', 'Ticket', 'Cabin'], axis=1)\n",
    "df_test['Gender'] = df_test['Sex'].map({'female': 0, 'male':1}).astype(int)\n",
    "df_test['Port'] = df_test['Embarked'].map({'C':1, 'S':2, 'Q':3}).astype(int)\n",
    "df_test = df_test.drop(['Sex', 'Embarked'], axis=1)\n",
    "df_test = df_test.fillna(0)\n",
    "\n",
    "test_dataset = df_test.values[0:, 1:]\n",
    "test_ids = df_test.values[0:, 0]"
   ]
  },
  {
   "cell_type": "code",
   "execution_count": 14,
   "metadata": {},
   "outputs": [],
   "source": [
    "# Generate CSV file in Kaggle format\n",
    "\n",
    "def generate_csv(id_values, predict_result, filename):\n",
    "    count = 0\n",
    "    values = []\n",
    "    for id_value in id_values:\n",
    "        values.append((int(id_value), int(predict_result[count])))\n",
    "        count += 1\n",
    "\n",
    "    df = pd.DataFrame(values, columns=['PassengerId','Survived']) \n",
    "    df.to_csv(\"../datasets/titanic/\" + filename + \".csv\", sep=',', columns=['PassengerId','Survived'], index=False)"
   ]
  },
  {
   "cell_type": "markdown",
   "metadata": {},
   "source": [
    "Implemente e teste o modelo utilizando o Naive Bayes. Teste os três tipos de Algoritmos Naive Bayes presentes na documentação do scikit-learn."
   ]
  },
  {
   "cell_type": "code",
   "execution_count": 15,
   "metadata": {},
   "outputs": [],
   "source": [
    "from sklearn.naive_bayes import MultinomialNB, GaussianNB, BernoulliNB"
   ]
  },
  {
   "cell_type": "code",
   "execution_count": 16,
   "metadata": {},
   "outputs": [],
   "source": [
    "naive1 = MultinomialNB()\n",
    "naive2 = GaussianNB()\n",
    "naive3 = BernoulliNB()\n",
    "\n",
    "algorithms = [naive1, naive2, naive3]"
   ]
  },
  {
   "cell_type": "code",
   "execution_count": 40,
   "metadata": {},
   "outputs": [
    {
     "name": "stdout",
     "output_type": "stream",
     "text": [
      "Acc do MultinomialNB: 0.668994 \n",
      "\n",
      "Acc do GaussianNB: 0.784562 \n",
      "\n",
      "Acc do BernoulliNB: 0.786715 \n",
      "\n"
     ]
    }
   ],
   "source": [
    "for algo in algorithms:\n",
    "    scores = cross_val_score(algo, X_train, y_train, cv=5, scoring='accuracy')\n",
    "    score_mean = scores.mean()\n",
    "    print(\"Acc do %s: %f \" % (algo.__class__.__name__, score_mean))\n",
    "    print()"
   ]
  },
  {
   "cell_type": "code",
   "execution_count": 30,
   "metadata": {},
   "outputs": [
    {
     "data": {
      "text/plain": [
       "BernoulliNB(alpha=1.0, binarize=0.0, class_prior=None, fit_prior=True)"
      ]
     },
     "execution_count": 30,
     "metadata": {},
     "output_type": "execute_result"
    }
   ],
   "source": [
    "naive3.fit(X_train, y_train)"
   ]
  },
  {
   "cell_type": "code",
   "execution_count": 31,
   "metadata": {},
   "outputs": [],
   "source": [
    "predict_result = naive3.predict(test_dataset)"
   ]
  },
  {
   "cell_type": "code",
   "execution_count": 32,
   "metadata": {},
   "outputs": [],
   "source": [
    "generate_csv(test_ids, predict_result, \"output_naivebayes_1\")"
   ]
  },
  {
   "cell_type": "markdown",
   "metadata": {},
   "source": [
    "Esse modelo teve uma acurácia de `0.76555` no Kaggle"
   ]
  }
 ],
 "metadata": {
  "kernelspec": {
   "display_name": "Python 3",
   "language": "python",
   "name": "python3"
  },
  "language_info": {
   "codemirror_mode": {
    "name": "ipython",
    "version": 3
   },
   "file_extension": ".py",
   "mimetype": "text/x-python",
   "name": "python",
   "nbconvert_exporter": "python",
   "pygments_lexer": "ipython3",
   "version": "3.6.0"
  }
 },
 "nbformat": 4,
 "nbformat_minor": 2
}

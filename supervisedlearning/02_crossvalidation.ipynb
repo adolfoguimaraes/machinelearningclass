{
  "nbformat": 4,
  "nbformat_minor": 0,
  "metadata": {
    "colab": {
      "name": "02_crossvalidation.ipynb",
      "version": "0.3.2",
      "provenance": []
    },
    "kernelspec": {
      "display_name": "Python 3",
      "language": "python",
      "name": "python3"
    }
  },
  "cells": [
    {
      "metadata": {
        "id": "5VzvAK8R_pmJ",
        "colab_type": "text"
      },
      "cell_type": "markdown",
      "source": [
        "# Aprendizado Supervisionado\n",
        "\n",
        "## Testando modelos: base de treino e teste\n",
        "\n",
        "Terminamos o tutorial passado avaliando os modelos construídos. No entanto, os testes foram realizados a partir da mesma base que foi utilizada para realizar o treinamento. É fácil perceber que essa não é uma abordagem interessante. Fazendo uma analogia, é como se estivéssemos avaliando nossos alunos com um prova que era igual a uma lista de exercício passada antes de prova. \n",
        "\n",
        "A principal questão quando estamos testando modelos em aprendizagem de máquina é garantir que nosso modelo seja capaz de **generalizar** o suficiente para que consiga acertar bem instâncias ainda desconhecidas. \n",
        "\n",
        "Quando treinamos e testamos nosso modelo com a mesma base, caímos no risco de construir um modelo que não seja capaz de generalizar aquele conhecimento adquirido. Normalmente, quando isso acontece, lidamos com um problema chamado de **overfit**. O correto é treinarmos nosso modelo com uma base e testar com um conjunto de dados novo. Desta forma, aumentamos as chances de construir um modelo capaz de generalizar o \"conhecimento\" extraído da base de dados.\n",
        "\n",
        "Na verdade, esse problema está relacionado com dois problemas clássicos da aprendizagem de máquina *underfitting* e *overfitting*. Vamos trabalhar melhor estes dois conceitos mais a frente no nosso curso.\n",
        "\n",
        "Treinar e testar com bases distintas consiste em selecionar nosso dataset e dividi-lo em duas partes: (1) uma base de treinamento e (2) uma base de teste. Desta forma podemos treinar e testar com base distintas, mas também podemos avaliar se o nosso modelo aprendeu de fato já que a classe de cada instância da base de teste é conhecida. A ** acurácia de teste ** é uma estimativa melhor do que a ** acurácia de treinamento ** já que avalia a performance do modelo em um conjunto de dados desconhecido.\n",
        "\n",
        "Para esse exemplo vamos trabalhar com a base Iris. "
      ]
    },
    {
      "metadata": {
        "id": "5Be3fP7T_pmN",
        "colab_type": "code",
        "colab": {}
      },
      "cell_type": "code",
      "source": [
        "#Imports necessários\n",
        "from sklearn.datasets import load_iris\n",
        "from sklearn import metrics\n",
        "from sklearn.model_selection import train_test_split\n",
        "from sklearn.neighbors import KNeighborsClassifier\n",
        "import matplotlib.pyplot as plt\n",
        "\n",
        "%matplotlib inline"
      ],
      "execution_count": 0,
      "outputs": []
    },
    {
      "metadata": {
        "id": "fr44zJd1_pmR",
        "colab_type": "code",
        "colab": {
          "base_uri": "https://localhost:8080/",
          "height": 84
        },
        "outputId": "982397f9-b0a5-41b8-e4bb-e546c7f06cd9"
      },
      "cell_type": "code",
      "source": [
        "data_iris = load_iris()\n",
        "X = data_iris.data\n",
        "y = data_iris.target\n",
        "\n",
        "# Criando um teste que consiste em 40% dos dados originais\n",
        "X_train, X_test, Y_train, Y_test = train_test_split(X, y, test_size=0.4, random_state=4)\n",
        "\n",
        "\n",
        "#Imprimindo o tamanho das bases\n",
        "print(\"Tamanho de X na base de Treino: \", X_train.shape)\n",
        "print(\"Tamanho de X na base de Teste: \", X_test.shape)\n",
        "\n",
        "print(\"Tamanho de Y na base de Treino: \", Y_train.shape)\n",
        "print(\"Tamanho de Y na base de Teste: \", Y_test.shape)"
      ],
      "execution_count": 3,
      "outputs": [
        {
          "output_type": "stream",
          "text": [
            "Tamanho de X na base de Treino:  (90, 4)\n",
            "Tamanho de X na base de Teste:  (60, 4)\n",
            "Tamanho de Y na base de Treino:  (90,)\n",
            "Tamanho de Y na base de Teste:  (60,)\n"
          ],
          "name": "stdout"
        }
      ]
    },
    {
      "metadata": {
        "id": "yoAV-KYp_pmX",
        "colab_type": "text"
      },
      "cell_type": "markdown",
      "source": [
        "Agora vamos analisar os modelos do KNN utilizando K=3 e K=10, mas calculando a acurácia na base de teste."
      ]
    },
    {
      "metadata": {
        "id": "ofFwYBdt_pmY",
        "colab_type": "code",
        "colab": {
          "base_uri": "https://localhost:8080/",
          "height": 67
        },
        "outputId": "e966ec62-cda7-4f2a-93f6-8abfc6933d63"
      },
      "cell_type": "code",
      "source": [
        "#Instanciando e treinando os modelos\n",
        "\n",
        "knn_3 = KNeighborsClassifier(n_neighbors=3)\n",
        "knn_3.fit(X_train, Y_train)\n",
        "\n",
        "knn_10 = KNeighborsClassifier(n_neighbors=10)\n",
        "knn_10.fit(X_train, Y_train)"
      ],
      "execution_count": 4,
      "outputs": [
        {
          "output_type": "execute_result",
          "data": {
            "text/plain": [
              "KNeighborsClassifier(algorithm='auto', leaf_size=30, metric='minkowski',\n",
              "           metric_params=None, n_jobs=1, n_neighbors=10, p=2,\n",
              "           weights='uniform')"
            ]
          },
          "metadata": {
            "tags": []
          },
          "execution_count": 4
        }
      ]
    },
    {
      "metadata": {
        "id": "_CdHgB1z_pmd",
        "colab_type": "code",
        "colab": {}
      },
      "cell_type": "code",
      "source": [
        "# Fazendo a predição para base de teste\n",
        "pred_test_3 = knn_3.predict(X_test)\n",
        "pred_test_10 = knn_10.predict(X_test)"
      ],
      "execution_count": 0,
      "outputs": []
    },
    {
      "metadata": {
        "id": "mW_klQhn_pmf",
        "colab_type": "code",
        "colab": {
          "base_uri": "https://localhost:8080/",
          "height": 50
        },
        "outputId": "ebe9a230-a8ee-417a-9ff5-2d18df9fde14"
      },
      "cell_type": "code",
      "source": [
        "from sklearn import metrics\n",
        "#Calculando a acurácia\n",
        "print(\"Acurácia de teste para K=3:\", '%0.4f' % metrics.accuracy_score(Y_test, pred_test_3))\n",
        "print(\"Acurácia de teste para K=10:\", '%0.4f' % metrics.accuracy_score(Y_test, pred_test_10))"
      ],
      "execution_count": 6,
      "outputs": [
        {
          "output_type": "stream",
          "text": [
            "Acurácia de teste para K=3: 0.9667\n",
            "Acurácia de teste para K=10: 0.9833\n"
          ],
          "name": "stdout"
        }
      ]
    },
    {
      "metadata": {
        "id": "6rio6mEs_pmj",
        "colab_type": "text"
      },
      "cell_type": "markdown",
      "source": [
        "Apesar de ter dado valores bem parecidos, essa acurácia representa melhor o modelo que foi criado já que este foi testado com dados diferentes daqueles que foram utilizados para treina-lo."
      ]
    },
    {
      "metadata": {
        "id": "GJ9HMcQ3_pmk",
        "colab_type": "text"
      },
      "cell_type": "markdown",
      "source": [
        "## Validação Cruzada\n",
        "\n",
        "A forma como testamos o modelo criado é válido, mas existe uma forma mais interessante de testar nosso modelo para garantir a sua capacidade de generalizar. Isso é chamado de **Validação Cruzada** (*cross-validation*). Esse tipo de validação prover uma estimativa mais confiável e, consequentemente, uma maneira mais adequada para escolher o modelo que melhor generaliza os dados coletados. \n",
        "\n",
        "O princípio da validação cruzada é simples: dividimos a base em Treino e Teste e testamos nosso modelo (M). Em seguida, fazemos uma nova divisão e aplicamos novamente o modelo. Repetimos esse processo um número $x$ de vezes (*fold*). O resultado final do modelo é dado pela média dos valores encontrados em cada configuração da base. \n",
        "\n",
        "A imagem a seguir ilustra esse processo para uma divisão de 20% para teste e 80% para treino. Utilizamos 5 *folds* para ilustrar. Acc0 indica a acurácia do fold 0, Acc1 a acurácia do fold 1 e assim por diante.\n",
        "\n",
        "<img src=\"http://www.data2learning.com/machinelearning/images_notebook/crossvalidation.png\" width=\"60%\" />\n",
        "\n",
        "Observe que para cada *fold* o conjunto de dados de treino/teste é diferente."
      ]
    },
    {
      "metadata": {
        "id": "tD91T875_pml",
        "colab_type": "text"
      },
      "cell_type": "markdown",
      "source": [
        "Vamos executar a validação cruzada no ScikitLearn. A biblioteca possui o método **cross_val_score** do pacaote **sklearn.model_selection** que treina e testa o modelo usando validação cruzada."
      ]
    },
    {
      "metadata": {
        "id": "AqwiOSAK_pmm",
        "colab_type": "code",
        "colab": {
          "base_uri": "https://localhost:8080/",
          "height": 50
        },
        "outputId": "63a8f9b0-eb1f-4f2c-c7e1-38124c1da221"
      },
      "cell_type": "code",
      "source": [
        "# Importa o método de valiação cruzada \n",
        "from sklearn.model_selection import cross_val_score\n",
        "\n",
        "# Aplica a validação cruzada (5 folds) no modelo KNN (k=3) criado anteriomente\n",
        "scores_3 = cross_val_score(knn_3, X, y, cv=5, scoring='accuracy')\n",
        "\n",
        "# Aplica a validação cruzada (5 folds) no modelo KNN (k=10) criado anteriormente\n",
        "scores_10 = cross_val_score(knn_10, X, y, cv=5, scoring='accuracy')\n",
        "\n",
        "print(\"Média da Acurácia KNN (K=3): \", \"%0.3f\" % scores_3.mean())\n",
        "print(\"Média da Acurácia KNN (K=10): \", \"%0.3f\" %  scores_10.mean())"
      ],
      "execution_count": 7,
      "outputs": [
        {
          "output_type": "stream",
          "text": [
            "Média da Acurácia KNN (K=3):  0.967\n",
            "Média da Acurácia KNN (K=10):  0.980\n"
          ],
          "name": "stdout"
        }
      ]
    },
    {
      "metadata": {
        "id": "iI7mm7fX_pmq",
        "colab_type": "text"
      },
      "cell_type": "markdown",
      "source": [
        "O parâmetro **scoring** do método **cross_val_score** refere-se ao tipo de métrica que será utilizada para avaliar nosso modelo. No caso da classificação, vamos utilizar a acurácia (que corresponde a porcentagem de instâncias classificadas corretamente). Vale ressaltar que possuem várias métricas que podem ser utilizadas na classificação. Elas serão melhor trabalhadas mais adiante no curso. "
      ]
    },
    {
      "metadata": {
        "id": "d9U40LVm_pmr",
        "colab_type": "text"
      },
      "cell_type": "markdown",
      "source": [
        "## Exemplo 1\n",
        "\n",
        "Vamos calcular o melhor valor de K para a base da Iris treinando nosso modelo com validação cruzada de 5 folds. \n",
        "\n",
        "O valor de k vai ser variado de 1 até 25. O resultado será plotado em um gráfico. "
      ]
    },
    {
      "metadata": {
        "id": "CdVL6pst_pms",
        "colab_type": "code",
        "colab": {
          "base_uri": "https://localhost:8080/",
          "height": 282
        },
        "outputId": "5efb6c2d-7fe5-46f1-ba68-6cd8222d896e"
      },
      "cell_type": "code",
      "source": [
        "k_range = list(range(1, 26))\n",
        "\n",
        "scores = []\n",
        "\n",
        "maior_k = 0.0\n",
        "maior_acc = 0.0\n",
        "\n",
        "for k in k_range:\n",
        "    knn = KNeighborsClassifier(n_neighbors=k)\n",
        "    score = cross_val_score(knn, X, y, cv=5, scoring='accuracy')\n",
        "    \n",
        "    mean_score = score.mean()\n",
        "    \n",
        "    if mean_score > maior_acc:\n",
        "        maior_k = k\n",
        "        maior_acc = mean_score\n",
        "    \n",
        "    scores.append(score.mean())\n",
        "    \n",
        "plt.plot(k_range, scores)"
      ],
      "execution_count": 8,
      "outputs": [
        {
          "output_type": "execute_result",
          "data": {
            "text/plain": [
              "[<matplotlib.lines.Line2D at 0x7f4d6b4b6ba8>]"
            ]
          },
          "metadata": {
            "tags": []
          },
          "execution_count": 8
        },
        {
          "output_type": "display_data",
          "data": {
            "image/png": "[encoded data removed]",
            "text/plain": [
              "<matplotlib.figure.Figure at 0x7f4d6b55c9b0>"
            ]
          },
          "metadata": {
            "tags": []
          }
        }
      ]
    },
    {
      "metadata": {
        "id": "7Jbiny6Y_pmy",
        "colab_type": "code",
        "colab": {
          "base_uri": "https://localhost:8080/",
          "height": 50
        },
        "outputId": "fb4a737a-c3c3-4ac9-d2a5-5767f6520140"
      },
      "cell_type": "code",
      "source": [
        "print(\"Maior valor de K = \", maior_k)\n",
        "print(\"Maior valor de Acurácia = \", maior_acc)"
      ],
      "execution_count": 9,
      "outputs": [
        {
          "output_type": "stream",
          "text": [
            "Maior valor de K =  6\n",
            "Maior valor de Acurácia =  0.9800000000000001\n"
          ],
          "name": "stdout"
        }
      ]
    },
    {
      "metadata": {
        "id": "JgJwKKNp_pm2",
        "colab_type": "text"
      },
      "cell_type": "markdown",
      "source": [
        "## Exemplo 2\n",
        "\n",
        "Vamos voltar para o exemplo que utilizamos no tutorial de **Regressão Linear**. O modelo utilizava informações de gastos de propaganda em Rádio, TV e Jornal para dar uma estimativa de vendas de um determinado produto. Vamos utilizar agora a validação cruzada para testar diferentes modelos de Regressão Linear. \n",
        "\n",
        "Vamos utilizar a base de dados de três formas diferentes: \n",
        "\n",
        "1. Utilizando somente a *feature* TV\n",
        "2. Utilizando as *features* TV e Radio\n",
        "3. Utilizando todas as *features* (TV, Radio e Newspaper)\n",
        "\n",
        "Já tinha comentado anteriormente que o atributo Newspaper não contribui positivamente com as vendas. Vamos mostrar isso treinando três modelos distintos e calculando a acurácia na validação cruzada com 10 *folds*"
      ]
    },
    {
      "metadata": {
        "id": "baz_-jPW_pm3",
        "colab_type": "code",
        "colab": {}
      },
      "cell_type": "code",
      "source": [
        "import pandas as pd\n",
        "from sklearn.linear_model import LinearRegression\n",
        "\n",
        "# Carrega a base de dados\n",
        "data = pd.read_csv(\"http://www-bcf.usc.edu/~gareth/ISL/Advertising.csv\", index_col=0)"
      ],
      "execution_count": 0,
      "outputs": []
    },
    {
      "metadata": {
        "id": "IyuQogDd_pm6",
        "colab_type": "code",
        "colab": {
          "base_uri": "https://localhost:8080/",
          "height": 67
        },
        "outputId": "81327ac2-3c74-4225-8565-a62e19befdd2"
      },
      "cell_type": "code",
      "source": [
        "# Definindo as features que serão usadas para cada base \n",
        "feature_cols_1 = ['TV']\n",
        "feature_cols_2 = ['TV', 'radio']\n",
        "feature_cols_3 = ['TV', 'radio', 'newspaper']\n",
        "\n",
        "# Criando os dados de entrada  \n",
        "X_1 = data[feature_cols_1] # Corresponde aos dados só com a feature TV\n",
        "X_2 = data[feature_cols_2] # Corresponde aos dados com as features TV e Radio\n",
        "X_3 = data[feature_cols_3] # Corresponde aos dados com as features TV, Radio e Newspaper\n",
        "\n",
        "# Valores de Y. Lembrando que esse valor é igual para as três bases\n",
        "y = data.sales\n",
        "\n",
        "#Instanciando os modelos \n",
        "\n",
        "lm_1 = LinearRegression()\n",
        "lm_2 = LinearRegression()\n",
        "lm_3 = LinearRegression()\n",
        "\n",
        "\n",
        "#Validação cruzada de 10 folds. Observe que mudamos o parâmetro scoring para atender à técnica que estamos utilizando.\n",
        "scores_1 = cross_val_score(lm_1, X_1, y, cv=10, scoring='r2')\n",
        "scores_2 = cross_val_score(lm_2, X_2, y, cv=10, scoring='r2')\n",
        "scores_3 = cross_val_score(lm_3, X_3, y, cv=10, scoring='r2')\n",
        "\n",
        "# Resultados obtidos com a métrica R^2\n",
        "print(\"R2 Model 1: %0.6f\" % (scores_1.mean()))\n",
        "print(\"R2 Model 2: %0.6f\" % (scores_2.mean()))\n",
        "print(\"R2 Model 3: %0.6f\" % (scores_3.mean()))"
      ],
      "execution_count": 11,
      "outputs": [
        {
          "output_type": "stream",
          "text": [
            "R2 Model 1: 0.568697\n",
            "R2 Model 2: 0.886967\n",
            "R2 Model 3: 0.885356\n"
          ],
          "name": "stdout"
        }
      ]
    },
    {
      "metadata": {
        "id": "0mbHHdh9_pm-",
        "colab_type": "text"
      },
      "cell_type": "markdown",
      "source": [
        "Analisando os resultados, temos que o segundo modelo que usa apenas TV e Rádio tem o maior valor de $R^2$. O fato de considerar o atributo newspaper não implica em uma mudança tão grande nos resultados. "
      ]
    },
    {
      "metadata": {
        "id": "5qh5I7xF_pm-",
        "colab_type": "text"
      },
      "cell_type": "markdown",
      "source": [
        "Com isso fechamos esse tutorial. Assim que aprendermos mais modelos vamos realizar testes mais completos para avaliar os modelos implementados. O intuito deste tutorial foi mostrar uma boa ferramenta de testes que é a validação cruzada.\n",
        "\n",
        "**Até o próximo tutorial ;)**"
      ]
    }
  ]
}
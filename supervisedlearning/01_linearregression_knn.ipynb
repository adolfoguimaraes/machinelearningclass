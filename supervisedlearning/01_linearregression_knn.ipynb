{
  "nbformat": 4,
  "nbformat_minor": 0,
  "metadata": {
    "colab": {
      "name": "01_linearregression_knn.ipynb",
      "version": "0.3.2",
      "provenance": []
    },
    "kernelspec": {
      "display_name": "Python 3",
      "language": "python",
      "name": "python3"
    }
  },
  "cells": [
    {
      "metadata": {
        "id": "HAZW9tO-8e_4",
        "colab_type": "text"
      },
      "cell_type": "markdown",
      "source": [
        "# Aprendizado Supervisionado\n",
        "\n",
        "Vamos começar o estudo da aprendizagem de máquina com o tipo de aprendizado denominado de **Supervisionado**. \n",
        "\n",
        "> * **Aprendizado Supervisionado (*Supervised Learning*):** A training set of examples with the correct responses (targets) is provided and, based on this training set, the algorithm generalises to respond correctly to all possible inputs. This also colled learning from exemplars.\n",
        "\n",
        "Um algoritmo supervisionado é uma função que, dado um conjunto de exemplos rotulados, constrói um *preditor*. Os rótulos atribuídos aos exemplos são definidos a partir de um domínio conhecido. Se este domínio for um conjunto de valores nominais, estamos lidando com um problema de *classificação*. Agora se este domínio for um conjunto infinito e ordenado de valores, passamos a lidar com  um problema de *regressão*. O preditor construído recebe nomes distintos a depender da tarefa. Chamamos de classificador (para o primeiro tipo de rótulo) ou regressor (para o segundo tipo).\n",
        "\n",
        "Um classificador (ou regressor) também é uma função que recebe um exemplo não rotulado e é capaz de definir um rótulo dentro dos valores possíveis. Se estivermos trabalhando com um problema de regressão este rótulo está dentro do intervalo real assumido no problema. Se for uma tarefa de classificação, esse rótulo é uma das classes definidas.\n",
        "\n",
        "Podemos definir formalmente da seguinte maneira, segundo (FACELI, et. al, 2011):\n",
        "\n",
        "*Uma definição formal seria, dado um conjunto de observações de pares $D=\\{(x_i, f(x_i)), i = 1, ..., n\\}$, em que $f$ representa uma função desconhecida, um algoritmo de AM preditivo (ou supervisionado) aprende uma aproximação $f'$ da função desconhecida $f$. Essa função aproximada, $f'$, permite estimar o valor de $f$ para novas observações de $x$.*\n",
        "\n",
        "Temos duas situações para $f$:\n",
        "\n",
        "* **Classificação:** $y_i = f(x_i) \\in \\{c_1,...,c_m\\}$, ou seja, $f(x_i)$ assume valores em um conjunto discreto, não ordenado;\n",
        "* **Regressão:** $y_i = f(x_i) \\in R$, ou seja, $f(x_i)$ assume valores em um cojunto infinito e ordenado de valores.\n",
        "\n",
        "\n",
        "## Regressão Linear\n",
        "\n",
        "Vamos mostrar como a regressão funciona através de um método denominado regressão linear. Esse tutorial é baseado em 3 materiais: \n",
        "\n",
        "* Tutorial de Regressão Linear: https://github.com/justmarkham/DAT4/blob/master/notebooks/08_linear_regression.ipynb por \n",
        "* Slides sobre Regressão Linear: http://pt.slideshare.net/perone/intro-ml-slides20min\n",
        "* Cap. 3 do Livro \"An Introduction to Statistical Learning\" disponível em: http://www-bcf.usc.edu/~gareth/ISL/\n",
        "* Livro \"Inteligência Artificial - Uma Abordagem de Aprendizado de Máquina\" disponível em: https://www.amazon.com.br/dp/8521618808/ref=cm_sw_r_tw_dp_x_MiGdybV5B9TTT\n",
        "\n",
        "Para o nosso trabalho, vamos trabalhar com a base de *Advertising* disponibilizada pelo livro *\"An Introduction to Statistical Learning\"*. Essa base consiste de 3 atributos que representam os gastos de propaganda (em milhares de dólares) de um determinado produto na TV, Rádio e Jornal. Além disso, é conhecido a quantidade de vendas realizadas (em milhares de unidades) para cada instância. Vamos explorar a base de ados a seguir:"
      ]
    },
    {
      "metadata": {
        "id": "bWMD_z-08e_8",
        "colab_type": "code",
        "colab": {}
      },
      "cell_type": "code",
      "source": [
        "# Imports necessários para a parte de Regressão Linear\n",
        "\n",
        "import pandas as pd\n",
        "import matplotlib.pyplot as plt\n",
        "from sklearn.linear_model import LinearRegression\n",
        "from sklearn.model_selection import cross_val_score\n",
        "\n",
        "%matplotlib inline"
      ],
      "execution_count": 0,
      "outputs": []
    },
    {
      "metadata": {
        "id": "f521PBeb8fAA",
        "colab_type": "text"
      },
      "cell_type": "markdown",
      "source": [
        "O primeiro passo é carregar a base de dados. Ela está disponível a partir do link: http://www-bcf.usc.edu/~gareth/ISL/Advertising.csv. Para carregar a base vamos utilizar a biblioteca [**Pandas**](http://pandas.pydata.org/). Detalhes dessa biblioteca estão fora do escopo destes tutoriais. Sendo assim, apenas vamos usá-la sem tecer muitos detalhes sobre as operações realizadas. Basicamente, vamos utiliza-la para carregar a base de arquivos e plotar dados nos gráficos. Mais informações podem ser encontradas na documentação da biblioteca."
      ]
    },
    {
      "metadata": {
        "id": "dVHYMbOD8fAB",
        "colab_type": "code",
        "colab": {
          "base_uri": "https://localhost:8080/",
          "height": 202
        },
        "outputId": "3fe532e0-e09e-4733-81a7-1553072da09a"
      },
      "cell_type": "code",
      "source": [
        "# Carrega a base e imprime os dez primeiros registros da base\n",
        "data = pd.read_csv(\"http://www-bcf.usc.edu/~gareth/ISL/Advertising.csv\", index_col=0)\n",
        "print(data.head(10))"
      ],
      "execution_count": 2,
      "outputs": [
        {
          "output_type": "stream",
          "text": [
            "       TV  radio  newspaper  sales\n",
            "1   230.1   37.8       69.2   22.1\n",
            "2    44.5   39.3       45.1   10.4\n",
            "3    17.2   45.9       69.3    9.3\n",
            "4   151.5   41.3       58.5   18.5\n",
            "5   180.8   10.8       58.4   12.9\n",
            "6     8.7   48.9       75.0    7.2\n",
            "7    57.5   32.8       23.5   11.8\n",
            "8   120.2   19.6       11.6   13.2\n",
            "9     8.6    2.1        1.0    4.8\n",
            "10  199.8    2.6       21.2   10.6\n"
          ],
          "name": "stdout"
        }
      ]
    },
    {
      "metadata": {
        "id": "OG3DOeCD8fAJ",
        "colab_type": "text"
      },
      "cell_type": "markdown",
      "source": [
        "O *dataset* possui 3 atributos: *TV*, *Radio* e *Newspaper*. Cada um deles corresponde a quantidade de dólares gastos em propaganda em cada uma das mídias para um produto específico. Já a responsta (*Sales*) consiste da quantidade de produtos vendidos para cada produto. Esse *dataset* possui 200 instâncias.\n",
        "\n",
        "Para melhor visualizar, vamos plotar as informações da base de dados."
      ]
    },
    {
      "metadata": {
        "id": "ZSR3injh8fAJ",
        "colab_type": "code",
        "colab": {
          "base_uri": "https://localhost:8080/",
          "height": 514
        },
        "outputId": "afc580aa-9f7f-4b9e-b794-1ec26eb0aac8"
      },
      "cell_type": "code",
      "source": [
        "fig, axs = plt.subplots(1, 3, sharey=True)\n",
        "data.plot(kind='scatter', x='TV', y='sales', ax=axs[0], figsize=(16, 8))\n",
        "data.plot(kind='scatter', x='radio', y='sales', ax=axs[1])\n",
        "data.plot(kind='scatter', x='newspaper', y='sales', ax=axs[2])"
      ],
      "execution_count": 3,
      "outputs": [
        {
          "output_type": "execute_result",
          "data": {
            "text/plain": [
              "<matplotlib.axes._subplots.AxesSubplot at 0x7fde27235940>"
            ]
          },
          "metadata": {
            "tags": []
          },
          "execution_count": 3
        },
        {
          "output_type": "display_data",
          "data": {
            "image/png": "[encoded data removed]",
            "text/plain": [
              "<matplotlib.figure.Figure at 0x7fde2771e710>"
            ]
          },
          "metadata": {
            "tags": []
          }
        }
      ]
    },
    {
      "metadata": {
        "id": "NMuh9jRa8fAP",
        "colab_type": "text"
      },
      "cell_type": "markdown",
      "source": [
        "O nosso objetivo é analisar os dados e tirar certas conclusões a partir deles. Basicamente, queremos responder as seguintes perguntas:\n",
        "\n",
        "*** Com base nestes dados, como poderíamos gastar o dinheiro designado para propaganda no futuro? ***\n",
        "\n",
        "Em outras palavras:\n",
        "\n",
        "* *Existe uma relação entre o dinheiro gasto em propaganda e a quantidade de vendas?*\n",
        "* *Quão forte é esse relacionamento?*\n",
        "* *Quais são os tipos de propaganda que contribuem para as vendas?*\n",
        "* *Qual o efeito de cada tipo de propaganda nas vendas?*\n",
        "* *Dado um gasto específico em propaganda, é possível prever quanto será vendido?*\n",
        "\n",
        "Para explorar essas e outras questões, vamos utilizar, inicialmente, uma **Regressão Linear Simples**.\n"
      ]
    },
    {
      "metadata": {
        "id": "NUb5L8G98fAR",
        "colab_type": "text"
      },
      "cell_type": "markdown",
      "source": [
        "### Regressão Linear Simples\n",
        "\n",
        "Como o próprio nome diz, a regressão linear simples é um método muito (muito++) simples para prever valores **(Y)** a partir de uma única variável **(X)**. Para este modelo, é assumido que existe uma aproximação linear entre X e Y. Matematicamente, podemos escrever este relacionamento a partir da seguinte função: \n",
        "\n",
        "$Y \\approx \\beta_0 + \\beta_1X$, onde $\\approx$ pode ser lido como *aproximadamente*.\n",
        "\n",
        "$\\beta_0$ e $\\beta_1$ são duas constantes desconhecidas que representam a intercepção da reta com o eixo vertical ($\\beta_0$) e o declive (coeficiente angular) da reta ($\\beta_1$). As duas constantes são conhecidas como coeficientes ou parâmetros do modelo. O propósito da regressão linear é utilizar o conjunto de dados conhecidos para estimar os valores destas duas variáveis e definir o modelo aproximado:\n",
        "\n",
        "$\\hat{y} = \\hat{\\beta_0} + \\hat{\\beta_1}x$,\n",
        "\n",
        "onde $\\hat{y}$ indica um valor estimado de $Y$ baseado em $X = x$. Com essa equação podemo prever, neste caso, as vendas de um determinado produto baseado em um gasto específico em propaganda na TV.\n",
        "\n",
        "Mas como podemos estimar estes valores?"
      ]
    },
    {
      "metadata": {
        "id": "SoJbXxEH8fAS",
        "colab_type": "text"
      },
      "cell_type": "markdown",
      "source": [
        "### Estimando Valores\n",
        "\n",
        "Na prática, $\\beta_0$ e $\\beta_1$ são desconhecidos. Para que a gente possa fazer as estimativas, devemos conhecer os valores destes atributos. Para isso, vamos utilizar os dados já conhecidos.\n",
        "\n",
        "Considere,\n",
        "\n",
        "$(x_1,y_1), (x_2,y_2), ..., (x_n, y_n)$ $n$ pares de instâncias observadas em um conjunto de dados. O primeiro valor consiste de uma observação de $X$ e o segundo de $Y$. Na base de propagandas, esses dados consistem dos 200 valores vistos anteriormente.\n",
        "\n",
        "O objetivo na construção do modelo de regressão linear é estimar os valores de $\\beta_0$ e $\\beta_1$ tal que o modelo linear encontrado represente, da melhor foma, os dados disponibilizados. Em outras palavras, queremos encontrar os valores dos coenficientes de forma que a reta resultante seja a mais próxima possível dos dados utilizados. \n",
        "\n",
        "Basicamente, vamos encontrar várias retas e analisar qual delas se aproxima mais dos dados apresentados. Existem várias maneiras de medir essa \"proximidade\". Uma delas é a RSS (*residual sum of squares*), que é representada pela equação:\n",
        "\n",
        "$\\sum_{i=1}^{N}{(\\hat{y_i}-y_i)^2}$, onde $\\hat{y_i}$ o valor estimado de y e $y_i$, o valor real.\n",
        "\n",
        "A figura a seguir apresenta um exemplo que mostra os valores estimados e a diferença residual.\n",
        "\n",
        "![alt Grafico Regressao Linear](https://www.data2learning.com/machinelearning/images_notebook/grafico_regressao_linear1.png?dl=0\")\n",
        "\n",
        "Os pontos vermelhos representam os dados observados; a linha azul, o modelo construído e as linhas cinzas, a diferença residual entre o que foi estimado e o que era real.\n",
        "\n",
        "Vamos estimar tais parâmetros utilizando *scikit-learn*."
      ]
    },
    {
      "metadata": {
        "id": "f0EI60bg8fAU",
        "colab_type": "text"
      },
      "cell_type": "markdown",
      "source": [
        "### Aplicação do modelo de regressão linear"
      ]
    },
    {
      "metadata": {
        "id": "V5Ixa6Ib8fAV",
        "colab_type": "text"
      },
      "cell_type": "markdown",
      "source": [
        "O primeiro passo é separar dos dados (*features*) das classes (*labels*) dos dados que serão utilizados para treinar nosso modelo."
      ]
    },
    {
      "metadata": {
        "id": "G_54Ro7_8fAW",
        "colab_type": "code",
        "colab": {}
      },
      "cell_type": "code",
      "source": [
        "# Carregando os dados de treinamento e os labels\n",
        "\n",
        "feature_cols = ['TV']\n",
        "\n",
        "X = data[feature_cols] # Dados de Treinamento\n",
        "y = data.sales # Labels dos dados de Treinamento\n"
      ],
      "execution_count": 0,
      "outputs": []
    },
    {
      "metadata": {
        "id": "B-HMKa5C8fAa",
        "colab_type": "text"
      },
      "cell_type": "markdown",
      "source": [
        "Em seguida, vamos instanciar o modelo de Regressão Linear do ScikitLearn e treina-lo com os dados."
      ]
    },
    {
      "metadata": {
        "id": "_5OJcPd68fAc",
        "colab_type": "code",
        "colab": {
          "base_uri": "https://localhost:8080/",
          "height": 34
        },
        "outputId": "20818494-cbb5-4a35-8035-00913bdc42c2"
      },
      "cell_type": "code",
      "source": [
        "lm = LinearRegression() # Instanciando o modelo\n",
        "lm.fit(X, y) # Treinando com os dados de treinamento"
      ],
      "execution_count": 5,
      "outputs": [
        {
          "output_type": "execute_result",
          "data": {
            "text/plain": [
              "LinearRegression(copy_X=True, fit_intercept=True, n_jobs=1, normalize=False)"
            ]
          },
          "metadata": {
            "tags": []
          },
          "execution_count": 5
        }
      ]
    },
    {
      "metadata": {
        "id": "CIPE84No8fAh",
        "colab_type": "text"
      },
      "cell_type": "markdown",
      "source": [
        "Como dito anteriormente, o modelo aprendeu, baseado no conjunto de dados, valores para $\\beta_0$ e $\\beta_1$. Vamos visualizar os valores encontrados."
      ]
    },
    {
      "metadata": {
        "id": "HMtlvADn8fAj",
        "colab_type": "code",
        "colab": {
          "base_uri": "https://localhost:8080/",
          "height": 50
        },
        "outputId": "a1d378d7-f3cd-4fb6-e637-3cb9c23a7e9a"
      },
      "cell_type": "code",
      "source": [
        "#Imprimindo beta_0\n",
        "print(\"Valor de Beta_0: \" + str(lm.intercept_))\n",
        "\n",
        "#Imprimindo beta_1\n",
        "print(\"Valor de Beta_1: \" + str(lm.coef_[0]))"
      ],
      "execution_count": 6,
      "outputs": [
        {
          "output_type": "stream",
          "text": [
            "Valor de Beta_0: 7.032593549127695\n",
            "Valor de Beta_1: 0.04753664043301975\n"
          ],
          "name": "stdout"
        }
      ]
    },
    {
      "metadata": {
        "id": "Ge5DlFoc8fAo",
        "colab_type": "text"
      },
      "cell_type": "markdown",
      "source": [
        "Esse valores representam os valores de $\\beta_0$ e $\\beta_1$ da nossa equação que representa um modelo simples de regressão linear onde é levado em consideração somente um atributo. \n",
        "\n",
        "Com esses valores é possível estimar quanto será vendido dado um determinado gasto em propaganda de TV. Além disso, o coeficiente $\\beta_1$ nos conta mais sobre o problema. \n",
        "\n",
        "O valor de $0.047536640433$ indica que cada unidade que aumentarmos em propaganda de TV implica em um aumento de $0.047536640433$ nas vendas. Em outras palavras, cada $1,000$ gastos em TV está associado com um aumento de 47.537 de unidades nas vendas. \n",
        "\n",
        "Vamos usar esses valores para estimar quanto será vendido se gastarmos $50000$ em TV.\n",
        "\n",
        "$y = 7.03259354913 + 0.047536640433 \\times 50$\n",
        "\n"
      ]
    },
    {
      "metadata": {
        "id": "ETn6jBFo8fAp",
        "colab_type": "code",
        "colab": {
          "base_uri": "https://localhost:8080/",
          "height": 34
        },
        "outputId": "1762589f-ce72-4b16-d47b-517c9f6f1e2d"
      },
      "cell_type": "code",
      "source": [
        "7.03259354913+0.047536640433*50"
      ],
      "execution_count": 7,
      "outputs": [
        {
          "output_type": "execute_result",
          "data": {
            "text/plain": [
              "9.40942557078"
            ]
          },
          "metadata": {
            "tags": []
          },
          "execution_count": 7
        }
      ]
    },
    {
      "metadata": {
        "id": "AitTtU018fAu",
        "colab_type": "text"
      },
      "cell_type": "markdown",
      "source": [
        "Desta forma, poderíamos prever a venda de 9409 unidades.\n",
        "\n",
        "No entanto, nosso objetivo não é fazer isso manualmente. A idéia é construir o modelo e utiliza-lo para fazer a estimativa de valores. Para isso, vamos utilizar o método *predict*.\n",
        "\n",
        "Podemos estimar para uma entrada apenas:"
      ]
    },
    {
      "metadata": {
        "id": "He15z4SK8fAv",
        "colab_type": "code",
        "colab": {
          "base_uri": "https://localhost:8080/",
          "height": 34
        },
        "outputId": "aca7598b-59b3-42dd-f9e8-617cf6a6d952"
      },
      "cell_type": "code",
      "source": [
        "lm.predict([[50]])"
      ],
      "execution_count": 8,
      "outputs": [
        {
          "output_type": "execute_result",
          "data": {
            "text/plain": [
              "array([9.40942557])"
            ]
          },
          "metadata": {
            "tags": []
          },
          "execution_count": 8
        }
      ]
    },
    {
      "metadata": {
        "id": "wtmulmW-8fAz",
        "colab_type": "text"
      },
      "cell_type": "markdown",
      "source": [
        "Ou várias:"
      ]
    },
    {
      "metadata": {
        "id": "oLSeThe38fA1",
        "colab_type": "code",
        "colab": {
          "base_uri": "https://localhost:8080/",
          "height": 34
        },
        "outputId": "192d9c39-9d7c-47b8-ea65-ce75abe6e8d1"
      },
      "cell_type": "code",
      "source": [
        "lm.predict([[50], [200], [10]])"
      ],
      "execution_count": 9,
      "outputs": [
        {
          "output_type": "execute_result",
          "data": {
            "text/plain": [
              "array([ 9.40942557, 16.53992164,  7.50795995])"
            ]
          },
          "metadata": {
            "tags": []
          },
          "execution_count": 9
        }
      ]
    },
    {
      "metadata": {
        "id": "r-qSIr8m8fA6",
        "colab_type": "text"
      },
      "cell_type": "markdown",
      "source": [
        "Para entender melhor como a Regressão Linear funciona vamos visualizar no gráfico o modelo construído."
      ]
    },
    {
      "metadata": {
        "id": "PRL8YPv-8fA7",
        "colab_type": "code",
        "colab": {
          "base_uri": "https://localhost:8080/",
          "height": 296
        },
        "outputId": "db5fc8e5-fef6-4ee5-ec19-e0bd1aa6fb24"
      },
      "cell_type": "code",
      "source": [
        "'''\n",
        "O código a seguir faz a predição para o menor e maior valores de X na base de treinamento. Estes valores\n",
        "são utilizados para construir uma reta que é plotada sobre os dados de treinamento.\n",
        "'''\n",
        "\n",
        "X_new = pd.DataFrame({'TV': [data.TV.min(), data.TV.max()]}) # Menor e Maior valores de X na base de treinamento\n",
        "preds = lm.predict(X_new) # Predição destes valores\n",
        "data.plot(kind='scatter', x='TV', y='sales') # Plotagem dos valores da base de treinamento\n",
        "plt.plot(X_new, preds, c='red', linewidth=2) # Plotagem da reta"
      ],
      "execution_count": 10,
      "outputs": [
        {
          "output_type": "execute_result",
          "data": {
            "text/plain": [
              "[<matplotlib.lines.Line2D at 0x7fde50968d68>]"
            ]
          },
          "metadata": {
            "tags": []
          },
          "execution_count": 10
        },
        {
          "output_type": "display_data",
          "data": {
            "image/png": "[encoded data removed]",
            "text/plain": [
              "<matplotlib.figure.Figure at 0x7fde271f9588>"
            ]
          },
          "metadata": {
            "tags": []
          }
        }
      ]
    },
    {
      "metadata": {
        "id": "k0Y3SoJm8fBA",
        "colab_type": "text"
      },
      "cell_type": "markdown",
      "source": [
        "A reta em vermelho representa o modelo de regressão linear construído a partir dos dados passados. "
      ]
    },
    {
      "metadata": {
        "id": "RU9sqd6Z8fBD",
        "colab_type": "text"
      },
      "cell_type": "markdown",
      "source": [
        "### Avaliando o Modelo Construído\n",
        "\n",
        "Para avaliar o modelo construído vamos utilizar uma métrica denominada de $R^2$ (*R-squared* ou coeficiente de determinação). \n",
        "\n",
        "(By [Wikipedia](https://pt.wikipedia.org/wiki/R%C2%B2)) \n",
        "*O coeficiente de determinação, também chamado de R², é uma medida de ajustamento de um modelo estatístico linear generalizado, como a Regressão linear, em relação aos valores observados. O R² varia entre 0 e 1, indicando, em percentagem, o quanto o modelo consegue explicar os valores observados. Quanto maior o R², mais explicativo é modelo, melhor ele se ajusta à amostra. Por exemplo, se o R² de um modelo é 0,8234, isto significa que 82,34\\% da variável dependente consegue ser explicada pelos regressores presentes no modelo.*\n",
        "\n",
        "Para entender melhor a métrica, vamos analisar o gráfico a seguir:\n",
        "![alt Grafico R-squared](https://github.com/justmarkham/DAT4/raw/068d887e4be2eedb1b958b345ae097153f762d75/notebooks/08_r_squared.png \"R-squared\")\n",
        "*Fonte da Imagem: https://github.com/justmarkham/DAT4/ *\n",
        "\n",
        "\n",
        "Observe que a função representada pela cor vemelha se ajusta melhor aos dados do que as retas de cor azul e verde. Visualmente podemos ver que, de fato, a curva vemelha descreve melhor a distribuição dos dados plotados.\n",
        "\n",
        "Vamos calcular o valor do *R-squared* para o modelo construído utilizando o método *score* que recebe como parâmetro os dados de treinamento.\n"
      ]
    },
    {
      "metadata": {
        "id": "BsF_u9U58fBG",
        "colab_type": "code",
        "colab": {
          "base_uri": "https://localhost:8080/",
          "height": 34
        },
        "outputId": "96924182-570c-4733-9256-6a794279fc7b"
      },
      "cell_type": "code",
      "source": [
        "lm.score(X, y)"
      ],
      "execution_count": 11,
      "outputs": [
        {
          "output_type": "execute_result",
          "data": {
            "text/plain": [
              "0.611875050850071"
            ]
          },
          "metadata": {
            "tags": []
          },
          "execution_count": 11
        }
      ]
    },
    {
      "metadata": {
        "id": "cQX7M9e68fBN",
        "colab_type": "text"
      },
      "cell_type": "markdown",
      "source": [
        "Sozinho esse valor não nos conta muito. No entanto, ele será bastante útil quando formos comparar este modelo com outros mais à frente."
      ]
    },
    {
      "metadata": {
        "id": "9uYCTDZE8fBP",
        "colab_type": "text"
      },
      "cell_type": "markdown",
      "source": [
        "### Multiple Linear Regression\n",
        "\n",
        "Podemos estender o modelo visto anteriormente para trabalhar com mais de um atributo, a chamada *Multiple Linear Regression*. Matematicamente, teríamos:\n",
        "\n",
        "$y \\approx \\beta_0 + \\beta_1 x_1 + ... \\beta_n x_n$\n",
        "\n",
        "Cada $x$ representa um atribuito e cada atributo possui seu próprio coeficiente. Para nossa base de dados, teríamos:\n",
        "\n",
        "$y \\approx \\beta_0 + \\beta_1 \\times TV + \\beta_2 \\times Radio + \\beta_3 \\times Newspaper$\n",
        "\n",
        "Vamos construir nosso modelo para este caso:"
      ]
    },
    {
      "metadata": {
        "id": "VWhn7wmE8fBR",
        "colab_type": "code",
        "colab": {
          "base_uri": "https://localhost:8080/",
          "height": 101
        },
        "outputId": "473b360c-fe3a-4cdd-d7a6-bf3982897691"
      },
      "cell_type": "code",
      "source": [
        "# Carregando os dados de X e y do dataset\n",
        "feature_cols = ['TV','radio','newspaper']\n",
        "X = data[feature_cols]\n",
        "y = data.sales\n",
        "\n",
        "#Instanciando e treinando o modelo de regressão linear\n",
        "lm = LinearRegression()\n",
        "lm.fit(X, y)\n",
        "\n",
        "#Imprimindo os coeficientes encontrados\n",
        "\n",
        "print(\"Valor de Beta_0: \")\n",
        "print(str(lm.intercept_))\n",
        "print()\n",
        "print(\"Valores de Beta_1, Beta_2, ..., Beta_n: \")\n",
        "print(list(zip(feature_cols, lm.coef_)))\n"
      ],
      "execution_count": 12,
      "outputs": [
        {
          "output_type": "stream",
          "text": [
            "Valor de Beta_0: \n",
            "2.938889369459412\n",
            "\n",
            "Valores de Beta_1, Beta_2, ..., Beta_n: \n",
            "[('TV', 0.0457646454553976), ('radio', 0.18853001691820448), ('newspaper', -0.0010374930424763285)]\n"
          ],
          "name": "stdout"
        }
      ]
    },
    {
      "metadata": {
        "id": "Y2hCf47h8fBV",
        "colab_type": "text"
      },
      "cell_type": "markdown",
      "source": [
        "O modelo construído foi:\n",
        "\n",
        "$y \\approx 2.93888936946 + 0.045764645455397601_1 \\times TV + 0.18853001691820448 \\times Radio -0.0010374930424762578 \\times Newspaper$"
      ]
    },
    {
      "metadata": {
        "id": "WOsYCPGi8fBW",
        "colab_type": "text"
      },
      "cell_type": "markdown",
      "source": [
        "Assim como fizemos no primeiro exemplo, podemos utilzar o método *predict* para prever valores não conhecidos."
      ]
    },
    {
      "metadata": {
        "id": "c3mqE1Q28fBW",
        "colab_type": "code",
        "colab": {
          "base_uri": "https://localhost:8080/",
          "height": 34
        },
        "outputId": "1d560d1f-e895-45d2-f0cb-4ebf5552d454"
      },
      "cell_type": "code",
      "source": [
        "lm.predict([[100, 25, 25], [200, 10, 10]])"
      ],
      "execution_count": 13,
      "outputs": [
        {
          "output_type": "execute_result",
          "data": {
            "text/plain": [
              "array([12.20266701, 13.9667437 ])"
            ]
          },
          "metadata": {
            "tags": []
          },
          "execution_count": 13
        }
      ]
    },
    {
      "metadata": {
        "id": "A4wa9DKZ8fBa",
        "colab_type": "text"
      },
      "cell_type": "markdown",
      "source": [
        "Avaliando o modelo, temos o valor para o $R^2$:"
      ]
    },
    {
      "metadata": {
        "id": "pv_pJJWi8fBb",
        "colab_type": "code",
        "colab": {
          "base_uri": "https://localhost:8080/",
          "height": 34
        },
        "outputId": "54364c13-dc5e-4bdd-c50a-e81ee7876d90"
      },
      "cell_type": "code",
      "source": [
        "lm.score(X, y)"
      ],
      "execution_count": 14,
      "outputs": [
        {
          "output_type": "execute_result",
          "data": {
            "text/plain": [
              "0.8972106381789521"
            ]
          },
          "metadata": {
            "tags": []
          },
          "execution_count": 14
        }
      ]
    },
    {
      "metadata": {
        "id": "Pl8uSevx8fBi",
        "colab_type": "text"
      },
      "cell_type": "markdown",
      "source": [
        "### Entendendo os resultados obtidos\n",
        "\n",
        "Vamos analisar alguns resultados obtidos nos dois modelos construídos anteriormente. A primeira coisa é verificar o valor de $\\beta_1$. Esse valor deu positivo para os atributos *TV* e *Radio* e negativo para o atributo *Newspaper*. Isso significa que o gasto em propaganda está relacionado positivamente às vendas nos dois primeiros atributos. Diferente do que acontece com o *Newspaper*: o gasto está negativamente associado às vendas. \n",
        "\n",
        "Uma outra coisa que podemos perceber é que o *R-squared* aumentou quando aumentamos o número de atributos. Isso normalmente acontece com essa métrica. Basicamente, podemos concluir que este último modelo tem um valor mais alto para o *R-squared* que o modelo anterior que considerou apenas a TV como atributo. Isto significa que este modelo fornece um melhor \"ajuste\" aos dados fornecidos. \n",
        "\n",
        "No entanto, o *R-squared* não é a melhor métrica para avaliar tais modelos. Se fizermos um análise estatística mais aprofundada (essa análise foge do escopo desta disciplina. Detalhes podem ser encontrados [aqui](https://github.com/justmarkham/DAT4/blob/master/notebooks/08_linear_regression.ipynb)) vamos perceber que o atributo *Newspaper* não influencia (estatisticamente) no total de vendas. Teoricamente, poderíamos descartar tal atributo. No entanto, se calcularmos o valor do *R-squared* para um modelo sem *Newspaper* e para o modelo com *Newspaper*, o valor do segundo será maior que o primeiro. \n",
        "\n",
        "** Essa tarefa fica como atividade ;) **"
      ]
    },
    {
      "metadata": {
        "id": "d4qHwqRo8fBi",
        "colab_type": "text"
      },
      "cell_type": "markdown",
      "source": [
        "## KNN: k-Nearest Neighbors"
      ]
    },
    {
      "metadata": {
        "id": "Sp208vzs8fBk",
        "colab_type": "text"
      },
      "cell_type": "markdown",
      "source": [
        "No início desse tutorial tratamos o problema de aprendizado supervisionado a partir de dois pontos de vista. O primeiro da regressão. Mostramos como trabalhar com a regressão linear para prever valores em um intervalo. O segundo, como o problema de classificação de instâncias em classes. Para exemplificar esse problema, vamos trabalhar com o KNN, uma das técnicas mais simples de classificação. \n",
        "\n",
        "A idéia básica do KNN é que podemos classificar uma instância desconhecida com base nas informações dos vizinhos mais próximos. Para isso, exergamos os dados como pontos marcados em um sistema cartesiano e utilizamos a distância entre pontos para identificar quais estão mais próximoas. \n",
        "\n",
        "Para entender um pouco mais do KNN, assista [este vídeo](https://www.youtube.com/watch?v=UqYde-LULfs)\n",
        "\n",
        "Para começar, vamos analisar o conjunto de dados a seguir:"
      ]
    },
    {
      "metadata": {
        "id": "_R_hHvYn8fBl",
        "colab_type": "code",
        "colab": {
          "base_uri": "https://localhost:8080/",
          "height": 314
        },
        "outputId": "1b1e9d93-10b5-4eed-de2d-4cfc59780462"
      },
      "cell_type": "code",
      "source": [
        "data = pd.read_csv(\"http://www.data2learning.com/datasets/basehomemulher.csv\", index_col=0)\n",
        "data"
      ],
      "execution_count": 15,
      "outputs": [
        {
          "output_type": "execute_result",
          "data": {
            "text/html": [
              "<div>\n",
              "<style scoped>\n",
              "    .dataframe tbody tr th:only-of-type {\n",
              "        vertical-align: middle;\n",
              "    }\n",
              "\n",
              "    .dataframe tbody tr th {\n",
              "        vertical-align: top;\n",
              "    }\n",
              "\n",
              "    .dataframe thead th {\n",
              "        text-align: right;\n",
              "    }\n",
              "</style>\n",
              "<table border=\"1\" class=\"dataframe\">\n",
              "  <thead>\n",
              "    <tr style=\"text-align: right;\">\n",
              "      <th></th>\n",
              "      <th>peso</th>\n",
              "      <th>altura</th>\n",
              "      <th>classe</th>\n",
              "    </tr>\n",
              "  </thead>\n",
              "  <tbody>\n",
              "    <tr>\n",
              "      <th>1</th>\n",
              "      <td>50</td>\n",
              "      <td>1.60</td>\n",
              "      <td>0</td>\n",
              "    </tr>\n",
              "    <tr>\n",
              "      <th>2</th>\n",
              "      <td>53</td>\n",
              "      <td>1.65</td>\n",
              "      <td>0</td>\n",
              "    </tr>\n",
              "    <tr>\n",
              "      <th>3</th>\n",
              "      <td>60</td>\n",
              "      <td>1.58</td>\n",
              "      <td>0</td>\n",
              "    </tr>\n",
              "    <tr>\n",
              "      <th>4</th>\n",
              "      <td>62</td>\n",
              "      <td>1.62</td>\n",
              "      <td>0</td>\n",
              "    </tr>\n",
              "    <tr>\n",
              "      <th>5</th>\n",
              "      <td>91</td>\n",
              "      <td>1.75</td>\n",
              "      <td>1</td>\n",
              "    </tr>\n",
              "    <tr>\n",
              "      <th>6</th>\n",
              "      <td>102</td>\n",
              "      <td>1.85</td>\n",
              "      <td>1</td>\n",
              "    </tr>\n",
              "    <tr>\n",
              "      <th>7</th>\n",
              "      <td>105</td>\n",
              "      <td>1.82</td>\n",
              "      <td>1</td>\n",
              "    </tr>\n",
              "    <tr>\n",
              "      <th>8</th>\n",
              "      <td>103</td>\n",
              "      <td>1.77</td>\n",
              "      <td>1</td>\n",
              "    </tr>\n",
              "    <tr>\n",
              "      <th>9</th>\n",
              "      <td>87</td>\n",
              "      <td>1.73</td>\n",
              "      <td>1</td>\n",
              "    </tr>\n",
              "  </tbody>\n",
              "</table>\n",
              "</div>"
            ],
            "text/plain": [
              "   peso  altura  classe\n",
              "1    50    1.60       0\n",
              "2    53    1.65       0\n",
              "3    60    1.58       0\n",
              "4    62    1.62       0\n",
              "5    91    1.75       1\n",
              "6   102    1.85       1\n",
              "7   105    1.82       1\n",
              "8   103    1.77       1\n",
              "9    87    1.73       1"
            ]
          },
          "metadata": {
            "tags": []
          },
          "execution_count": 15
        }
      ]
    },
    {
      "metadata": {
        "id": "MownuyN08fBo",
        "colab_type": "text"
      },
      "cell_type": "markdown",
      "source": [
        "Os dados representam informações de altura e peso coletadas de homens e mulheres. Se plotarmos tais informações no gráfico, temos:"
      ]
    },
    {
      "metadata": {
        "id": "cpIBAeoR8fBp",
        "colab_type": "code",
        "colab": {
          "base_uri": "https://localhost:8080/",
          "height": 296
        },
        "outputId": "b0b90595-c665-4949-83dc-2222b3e47424"
      },
      "cell_type": "code",
      "source": [
        "colors = {0:'red', 1:'blue'}\n",
        "\n",
        "# Plotagem dos valores da base de treinamento\n",
        "data.plot(kind='scatter', x='peso', y='altura',c=data['classe'].apply(lambda x: colors[x])) "
      ],
      "execution_count": 16,
      "outputs": [
        {
          "output_type": "execute_result",
          "data": {
            "text/plain": [
              "<matplotlib.axes._subplots.AxesSubplot at 0x7fde24896470>"
            ]
          },
          "metadata": {
            "tags": []
          },
          "execution_count": 16
        },
        {
          "output_type": "display_data",
          "data": {
            "image/png": "[encoded data removed]",
            "text/plain": [
              "<matplotlib.figure.Figure at 0x7fde2496db38>"
            ]
          },
          "metadata": {
            "tags": []
          }
        }
      ]
    },
    {
      "metadata": {
        "id": "ByUKTFs98fBw",
        "colab_type": "text"
      },
      "cell_type": "markdown",
      "source": [
        "Considere que com base nestes dados, desejamos classificar uma nova instância. Vamos considerar uma instância onde a altura seja 1.70 e o peso 50. Se plotarmos esse ponto no gráfico, temos (a nova instância está representada pelo x):"
      ]
    },
    {
      "metadata": {
        "id": "VhB647Rv8fBx",
        "colab_type": "code",
        "colab": {
          "base_uri": "https://localhost:8080/",
          "height": 296
        },
        "outputId": "c61682df-60a8-494e-8df0-f8ed0de5eb69"
      },
      "cell_type": "code",
      "source": [
        "colors = {0:'red', 1:'blue'}\n",
        "\n",
        "# Plotagem dos valores da base de treinamento\n",
        "data.plot(kind='scatter', x='peso', y='altura',c=data['classe'].apply(lambda x: colors[x])) \n",
        "plt.plot([50], [1.70], 'X', c='black')"
      ],
      "execution_count": 41,
      "outputs": [
        {
          "output_type": "execute_result",
          "data": {
            "text/plain": [
              "[<matplotlib.lines.Line2D at 0x7fde2363c898>]"
            ]
          },
          "metadata": {
            "tags": []
          },
          "execution_count": 41
        },
        {
          "output_type": "display_data",
          "data": {
            "image/png": "[encoded data removed]",
            "text/plain": [
              "<matplotlib.figure.Figure at 0x7fde2365c400>"
            ]
          },
          "metadata": {
            "tags": []
          }
        }
      ]
    },
    {
      "metadata": {
        "id": "c-ndJHYt8fB1",
        "colab_type": "text"
      },
      "cell_type": "markdown",
      "source": [
        "O KNN vai classificar a nova instância com base nos vizinhos mais próximos. Neste caso, a nova instância seria classificada como mulher. Essa comparação é feita com os $k$ vizinhos mais próximos. \n",
        "\n",
        "Por exemplo, se considerarmos 3 vizinhos mais próximos e destes 3, dois são mulheres e 1 homem, a instância seria classificada como mulher já que corresponde a classe da maioria dos vizinhos."
      ]
    },
    {
      "metadata": {
        "id": "ieHUx8558fB2",
        "colab_type": "text"
      },
      "cell_type": "markdown",
      "source": [
        "A distância entre dois pontos pode ser calculada de diversas formas. A biblioteca do ScikitLearn lista [uma série de métricas de distância](http://scikit-learn.org/stable/modules/generated/sklearn.neighbors.DistanceMetric.html) que podem ser usadas. Vamos considerar um novo ponto e simular o que o algoritmo do KNN faz."
      ]
    },
    {
      "metadata": {
        "id": "hiB7XM4M8fB3",
        "colab_type": "code",
        "colab": {
          "base_uri": "https://localhost:8080/",
          "height": 296
        },
        "outputId": "5e68294e-82b0-4577-d383-10292d70d019"
      },
      "cell_type": "code",
      "source": [
        "colors = {0:'red', 1:'blue'}\n",
        "\n",
        "# Plotagem dos valores da base de treinamento\n",
        "data.plot(kind='scatter', x='peso', y='altura',c=data['classe'].apply(lambda x: colors[x])) \n",
        "plt.plot([77], [1.68], 'X', c='black')"
      ],
      "execution_count": 43,
      "outputs": [
        {
          "output_type": "execute_result",
          "data": {
            "text/plain": [
              "[<matplotlib.lines.Line2D at 0x7fde23567b70>]"
            ]
          },
          "metadata": {
            "tags": []
          },
          "execution_count": 43
        },
        {
          "output_type": "display_data",
          "data": {
            "image/png": "[encoded data removed]",
            "text/plain": [
              "<matplotlib.figure.Figure at 0x7fde2355a8d0>"
            ]
          },
          "metadata": {
            "tags": []
          }
        }
      ]
    },
    {
      "metadata": {
        "id": "BwkFF2B28fB7",
        "colab_type": "text"
      },
      "cell_type": "markdown",
      "source": [
        "Vamos trabalhar com o ponto **{'altura': 1.68, 'peso':77}** e calcular sua distância para todos os demais pontos. No exemplo vamos usar a distância euclideana: $\\sqrt{\\sum{(x_1 - x_2)^2 + (y_1 - y_2)^2}}$. Para simplificar, vamos utilizar nossa própria implementação da distância euclideana."
      ]
    },
    {
      "metadata": {
        "id": "1yL5nfTi8fB7",
        "colab_type": "code",
        "colab": {
          "base_uri": "https://localhost:8080/",
          "height": 168
        },
        "outputId": "8d8cbbc3-b782-45e0-db4d-4539bd1e1271"
      },
      "cell_type": "code",
      "source": [
        "import math\n",
        "\n",
        "# Calcula a distância euclideana de dois pontos\n",
        "def euclideanDistance(instance1, instance2, length):\n",
        "    distance = 0\n",
        "    for x in range(length):\n",
        "        distance += pow((instance1[x] - instance2[x]), 2)\n",
        "\n",
        "    return math.sqrt(distance)\n",
        "\n",
        "# Só para visualização: converte os valores para labels em String\n",
        "def convert_label(value):\n",
        "    if value == 0.0: return 'Mulher'\n",
        "    else: return 'Homem'\n",
        "\n",
        "# 0 = mulher , 1 = homem\n",
        "for index, row in data.iterrows():\n",
        "    print(convert_label(row['classe']), '%0.2f' % euclideanDistance([row['peso'], row['altura']],[77, 1.68], 2))"
      ],
      "execution_count": 21,
      "outputs": [
        {
          "output_type": "stream",
          "text": [
            "Mulher 27.00\n",
            "Mulher 24.00\n",
            "Mulher 17.00\n",
            "Mulher 15.00\n",
            "Homem 14.00\n",
            "Homem 25.00\n",
            "Homem 28.00\n",
            "Homem 26.00\n",
            "Homem 10.00\n"
          ],
          "name": "stdout"
        }
      ]
    },
    {
      "metadata": {
        "id": "I_xUskWJ8fB-",
        "colab_type": "text"
      },
      "cell_type": "markdown",
      "source": [
        "Uma vez que calculamos a distância do novo ponto a todos os demais pontos da base, devemos verificar os $k$ pontos mais próximos e ver qual classe predomina nestes pontos. Considerando os 3 vizinhos mais próximos ($k=3$), temos: \n",
        "\n",
        "* Homem: 10.0\n",
        "* Homem: 14.0\n",
        "* Mulher: 15.0\n",
        "\n",
        "Sendo assim, a instância selecionada seria classificada como **Homem**.\n",
        "\n",
        "E se considerássemos $k=5$?\n",
        "\n",
        "* Homem: 10.0\n",
        "* Homem: 14.0\n",
        "* Mulher: 15.0\n",
        "* Mulher: 17.0\n",
        "* Mulher: 24.0\n",
        "\n",
        "Neste caso, a instância seria classificada como **Mulher**."
      ]
    },
    {
      "metadata": {
        "id": "m7Y7DJQn8fB-",
        "colab_type": "code",
        "colab": {
          "base_uri": "https://localhost:8080/",
          "height": 168
        },
        "outputId": "e0ae6273-d5f5-4277-a7a3-0ce8a7d08987"
      },
      "cell_type": "code",
      "source": [
        "import math\n",
        "\n",
        "# Calcula a distância euclideana de dois pontos\n",
        "def euclideanDistance(instance1, instance2, length):\n",
        "    distance = 0\n",
        "    for x in range(length):\n",
        "        distance += pow((instance1[x] - instance2[x]), 2)\n",
        "\n",
        "    return math.sqrt(distance)\n",
        "\n",
        "# Só para visualização: converte os valores para labels em String\n",
        "def convert_label(value):\n",
        "    if value == 0.0: return 'Mulher'\n",
        "    else: return 'Homem'\n",
        "\n",
        "# 0 = mulher , 1 = homem\n",
        "for index, row in data.iterrows():\n",
        "    print(convert_label(row['classe']), '%0.2f' % euclideanDistance([row['peso'], row['altura']],[77, 1.68], 2))"
      ],
      "execution_count": 22,
      "outputs": [
        {
          "output_type": "stream",
          "text": [
            "Mulher 27.00\n",
            "Mulher 24.00\n",
            "Mulher 17.00\n",
            "Mulher 15.00\n",
            "Homem 14.00\n",
            "Homem 25.00\n",
            "Homem 28.00\n",
            "Homem 26.00\n",
            "Homem 10.00\n"
          ],
          "name": "stdout"
        }
      ]
    },
    {
      "metadata": {
        "id": "oSQOeMIL8fCC",
        "colab_type": "text"
      },
      "cell_type": "markdown",
      "source": [
        "Dá para perceber que o valor de $k$ influencia bastante na classificação dos objetos. Mais para frente usaremos a precisão do modelo para determinar o melhor valor de $k$. Quando o valor de $k$ é muito pequeno, o modelo está mais sensível aos pontos de ruído da base. Quando o $k$ é muito grande, a vizinhança pode incluir elementos de outra classe. Vale ressaltar que, normalmente, escolhemos valores de $k$ ímpar para evitar empates."
      ]
    },
    {
      "metadata": {
        "id": "gdq9HU-R8fCC",
        "colab_type": "text"
      },
      "cell_type": "markdown",
      "source": [
        "Um caso especial do KNN é quando utilizamos K = 1. Vamos considerar o exemplo da imagem a seguir: \n",
        "\n",
        "** Dataset de treinamento **\n",
        "\n",
        "![alt Exemplo KNN](https://raw.githubusercontent.com/justmarkham/scikit-learn-videos/0e26828604b503f0d66a5966de1dce57e5e88c2a/images/04_knn_dataset.png \"KNN 1\")\n"
      ]
    },
    {
      "metadata": {
        "id": "QjwlCSNg8fCE",
        "colab_type": "text"
      },
      "cell_type": "markdown",
      "source": [
        "Ao considerarmos K = 1, podemos construir um mapa de classificação, como é mostrado a seguir:\n",
        "\n",
        "** Mapa de classificação para o KNN (K=1) **\n",
        "\n",
        "![alt Exemplo KNN](https://raw.githubusercontent.com/justmarkham/scikit-learn-videos/0e26828604b503f0d66a5966de1dce57e5e88c2a/images/04_1nn_map.png \"KNN 1\")\n",
        "> *Image Credits: Data3classes, Map1NN, Map5NN by Agor153. Licensed under CC BY-SA 3.0*\n",
        "\n",
        "Uma nova instância será classificada de acordo com a região na qual ela se encontra."
      ]
    },
    {
      "metadata": {
        "id": "GehZn5Dm8fCE",
        "colab_type": "text"
      },
      "cell_type": "markdown",
      "source": [
        "Para finalizar, vale ressaltar dois pontos. O primeiro é que em alguns casos faz-se necessário normalizar os valores da base de treinamento por conta da discrepância entre as escalas dos atributos. Por exemplo, podemos ter altura em um intervalo de 1.50 à 1.90, peso no intervalo de 60 à 100 e salário no intervalo de 800 à 1500. Essa diferença de escalas pode fazer com que as medidas das distâncias sejam influenciadas por um único atributo.\n",
        "\n",
        "Um outro pronto é em relação as vantagens e desvantagens desta técnica. A principal vantagem de se usar um KNN é que ele é um modelo simples de ser implementado. No entanto, ele possui um certo custo computacional no cálculo da distância entre os pontos. Um outro problema é que a qualidade da classificação pode ser severamente prejudicada com a presença de ruídos na base.\n",
        "\n"
      ]
    },
    {
      "metadata": {
        "id": "KURpHlW98fCF",
        "colab_type": "text"
      },
      "cell_type": "markdown",
      "source": [
        "### Implementando o KNN com ScikitLearn\n",
        "\n",
        "Vamos implementar o KNN utilizando o ScikitLearn e realizar as tarefas de classificação para a base da Iris."
      ]
    },
    {
      "metadata": {
        "id": "bMRJjIIM8fCG",
        "colab_type": "code",
        "colab": {}
      },
      "cell_type": "code",
      "source": [
        "# Importando o Dataset\n",
        "from sklearn.datasets import load_iris\n",
        "\n",
        "data_iris = load_iris()\n",
        "X = data_iris.data\n",
        "y = data_iris.target"
      ],
      "execution_count": 0,
      "outputs": []
    },
    {
      "metadata": {
        "id": "4sNOedDp8fCI",
        "colab_type": "text"
      },
      "cell_type": "markdown",
      "source": [
        "Ao instanciar o modelo do KNN devemos passar o parâmetro *n_neighbors* que corresponde ao valor $k$, a quantidade de vizinhos próximos que será considerada."
      ]
    },
    {
      "metadata": {
        "id": "G9ho_B3w8fCI",
        "colab_type": "code",
        "colab": {}
      },
      "cell_type": "code",
      "source": [
        "# Importando e instanciando o modelo do KNN com k = 1\n",
        "\n",
        "from sklearn.neighbors import KNeighborsClassifier\n",
        "knn = KNeighborsClassifier(n_neighbors=1)"
      ],
      "execution_count": 0,
      "outputs": []
    },
    {
      "metadata": {
        "id": "NY1lhpfD8fCL",
        "colab_type": "text"
      },
      "cell_type": "markdown",
      "source": [
        "Instanciado o modelo, vamos treina-lo com os dados de treinamento."
      ]
    },
    {
      "metadata": {
        "id": "lkPCsZix8fCM",
        "colab_type": "code",
        "colab": {
          "base_uri": "https://localhost:8080/",
          "height": 67
        },
        "outputId": "e0904d4c-850b-48e0-91a2-b9b8f9302089"
      },
      "cell_type": "code",
      "source": [
        "knn.fit(X, y)"
      ],
      "execution_count": 25,
      "outputs": [
        {
          "output_type": "execute_result",
          "data": {
            "text/plain": [
              "KNeighborsClassifier(algorithm='auto', leaf_size=30, metric='minkowski',\n",
              "           metric_params=None, n_jobs=1, n_neighbors=1, p=2,\n",
              "           weights='uniform')"
            ]
          },
          "metadata": {
            "tags": []
          },
          "execution_count": 25
        }
      ]
    },
    {
      "metadata": {
        "id": "Ejh0rAxG8fCU",
        "colab_type": "text"
      },
      "cell_type": "markdown",
      "source": [
        "Assim como fizemos com a regressão linear, podemos utilizar o modelo construído para fazer a predição de dados que ainda não foram analisados."
      ]
    },
    {
      "metadata": {
        "id": "FJGhmsrI8fCV",
        "colab_type": "code",
        "colab": {
          "base_uri": "https://localhost:8080/",
          "height": 67
        },
        "outputId": "91550c07-61dd-42b8-db1c-9869e80c367f"
      },
      "cell_type": "code",
      "source": [
        "# O método predict retorna a classe na qual a instância foi classificada\n",
        "predict_value = knn.predict([[3, 5, 4, 2],[1,2,3,4]])\n",
        "print(predict_value)\n",
        "print(data_iris.target_names[predict_value[0]])\n",
        "print(data_iris.target_names[predict_value[1]])"
      ],
      "execution_count": 26,
      "outputs": [
        {
          "output_type": "stream",
          "text": [
            "[2 2]\n",
            "virginica\n",
            "virginica\n"
          ],
          "name": "stdout"
        }
      ]
    },
    {
      "metadata": {
        "id": "KCfwS9rE8fCY",
        "colab_type": "text"
      },
      "cell_type": "markdown",
      "source": [
        "### Avaliando e escolhendo o melhor modelo\n",
        "\n",
        "Para que possamos escolher o melhor modelo, devemos primeiro avalia-los. A avaliação do modelo de classificação é feita por meio da métrica denominada de **acurácia**. A acurácia corresponde a taxa de acerto do modelo. Um modelo que possui $90\\%$ de acurácia acertou a classe em $90\\%$ dos casos que foram analisados.\n",
        "\n",
        "Vale ressaltar que a escolha do melhor modelo depende de vários fatores por isso precisamos testar diferentes modelos para diferentes bases com diferentes parâmetros. Isso será melhor abordado mais a frente no nosso curso. Para simplificar, vamos trabahar com dois modelos do KNN para a base Iris. O primeiro com um K=3 e outro com K = 10."
      ]
    },
    {
      "metadata": {
        "id": "Ad_pfhxQ8fCZ",
        "colab_type": "code",
        "colab": {
          "base_uri": "https://localhost:8080/",
          "height": 67
        },
        "outputId": "17de8f29-3462-4552-a4d0-0dcf3e5911d9"
      },
      "cell_type": "code",
      "source": [
        "knn_3 = KNeighborsClassifier(n_neighbors=3)\n",
        "knn_3.fit(X, y)\n",
        "\n",
        "knn_10 = KNeighborsClassifier(n_neighbors=10)\n",
        "knn_10.fit(X, y)"
      ],
      "execution_count": 27,
      "outputs": [
        {
          "output_type": "execute_result",
          "data": {
            "text/plain": [
              "KNeighborsClassifier(algorithm='auto', leaf_size=30, metric='minkowski',\n",
              "           metric_params=None, n_jobs=1, n_neighbors=10, p=2,\n",
              "           weights='uniform')"
            ]
          },
          "metadata": {
            "tags": []
          },
          "execution_count": 27
        }
      ]
    },
    {
      "metadata": {
        "id": "-i6nVSMZ8fCh",
        "colab_type": "code",
        "colab": {}
      },
      "cell_type": "code",
      "source": [
        "accuracy_3 = knn_3.score(X, y)\n",
        "accuracy_10 = knn_10.score(X, y)"
      ],
      "execution_count": 0,
      "outputs": []
    },
    {
      "metadata": {
        "id": "X752B6t78fCk",
        "colab_type": "code",
        "colab": {
          "base_uri": "https://localhost:8080/",
          "height": 50
        },
        "outputId": "8771b7aa-9005-4135-ace1-92b735737c2f"
      },
      "cell_type": "code",
      "source": [
        "print('Acurácia com k = 3: ', '%0.4f'% accuracy_3)\n",
        "print('Acurácia com k = 10: ', '%0.4f'% accuracy_10)"
      ],
      "execution_count": 29,
      "outputs": [
        {
          "output_type": "stream",
          "text": [
            "Acurácia com k = 3:  0.9600\n",
            "Acurácia com k = 10:  0.9800\n"
          ],
          "name": "stdout"
        }
      ]
    },
    {
      "metadata": {
        "id": "RzUoWLc58fCo",
        "colab_type": "text"
      },
      "cell_type": "markdown",
      "source": [
        "Neste caso, o modelo com k = 10 é um modelo que acertou mais casos que o modelo com k = 3. "
      ]
    },
    {
      "metadata": {
        "id": "q2u9dZuE8fCp",
        "colab_type": "text"
      },
      "cell_type": "markdown",
      "source": [
        "A acurácia calculada nos exemplos de Regressão Linear e KNN são chamadas de **acurácia no treinamento**. A acurácia recebe esse nome pois o modelo foi treinado e testado na mesma base. Quando treinamos e testamos nosso modelo com a mesma base, caímos no risco de construir um modelo que não seja capaz de generalizar aquele conhecimento adquirido. Normalmente, quando isso acontece, lidamos com um problema chamado de *overfit*. O correto é treinarmos nosso modelo com uma base e testar com um conjunto de dados novo para o modelo. Desta forma, aumentamos as chances de construir um modelo capaz de generalizar o \"conhecimento\" extraído da base de dados.\n",
        "\n",
        "O ideal é que pudéssemos treinar e testar o modelo em bases distintas. No próximo tutorial, vamos mostrar como podemos dividir a base em treino/teste e trabalhar com o que chamamos de **validação cruzada**.\n",
        "\n",
        "Até o próximo tutorial ;)"
      ]
    }
  ]
}